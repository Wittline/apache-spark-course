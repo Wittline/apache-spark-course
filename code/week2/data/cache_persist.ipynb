{
 "cells": [
  {
   "cell_type": "markdown",
   "id": "457e44bc-08d9-44e9-9dea-973afcc06e7d",
   "metadata": {},
   "source": [
    "# Cache\n",
    "- Cache solo guarda en memoria (MEMORY_ONLY)\n",
    "\n",
    "# Persist\n",
    "- MEMORY_ONLY\n",
    "- MEMORY_ONLY_SER\n",
    "- MEMORY_AND_DISK\n",
    "- DISK_ONLY\n",
    "- OFF_HEAP\n",
    "- MEMORY_AND_DISK_SER"
   ]
  },
  {
   "cell_type": "code",
   "execution_count": 20,
   "id": "d7d36dbe-110e-4ded-bdd9-0d55f39b2624",
   "metadata": {},
   "outputs": [
    {
     "ename": "ImportError",
     "evalue": "cannot import name 'StorageLvel' from 'pyspark' (/usr/local/spark/python/pyspark/__init__.py)",
     "output_type": "error",
     "traceback": [
      "\u001b[0;31m---------------------------------------------------------------------------\u001b[0m",
      "\u001b[0;31mImportError\u001b[0m                               Traceback (most recent call last)",
      "Cell \u001b[0;32mIn [20], line 2\u001b[0m\n\u001b[1;32m      1\u001b[0m \u001b[38;5;28;01mfrom\u001b[39;00m \u001b[38;5;21;01mpyspark\u001b[39;00m \u001b[38;5;28;01mimport\u001b[39;00m SparkContext\n\u001b[0;32m----> 2\u001b[0m \u001b[38;5;28;01mfrom\u001b[39;00m \u001b[38;5;21;01mpyspark\u001b[39;00m \u001b[38;5;28;01mimport\u001b[39;00m StorageLvel\n",
      "\u001b[0;31mImportError\u001b[0m: cannot import name 'StorageLvel' from 'pyspark' (/usr/local/spark/python/pyspark/__init__.py)"
     ]
    }
   ],
   "source": [
    "from pyspark import SparkContext"
   ]
  },
  {
   "cell_type": "code",
   "execution_count": 12,
   "id": "41fba18e-a89f-41ca-a49a-b250123bb95b",
   "metadata": {},
   "outputs": [],
   "source": [
    "sc.stop()\n",
    "sc = SparkContext()"
   ]
  },
  {
   "cell_type": "code",
   "execution_count": 13,
   "id": "03cbcd99-352d-4fde-9517-089a5ba7d415",
   "metadata": {},
   "outputs": [],
   "source": [
    "myrdd = sc.parallelize([1,2,3,4,5,6,7,8,9,10], 4)"
   ]
  },
  {
   "cell_type": "code",
   "execution_count": 14,
   "id": "8e5fa281-5a29-47ec-af75-29f7a333b6ea",
   "metadata": {},
   "outputs": [
    {
     "data": {
      "text/plain": [
       "False"
      ]
     },
     "execution_count": 14,
     "metadata": {},
     "output_type": "execute_result"
    }
   ],
   "source": [
    "myrdd.is_cached"
   ]
  },
  {
   "cell_type": "code",
   "execution_count": 15,
   "id": "a932cd13-cdb5-4b41-9974-a30ddd93bd24",
   "metadata": {},
   "outputs": [
    {
     "data": {
      "text/plain": [
       "ParallelCollectionRDD[0] at readRDDFromFile at PythonRDD.scala:274"
      ]
     },
     "execution_count": 15,
     "metadata": {},
     "output_type": "execute_result"
    }
   ],
   "source": [
    "myrdd.cache()"
   ]
  },
  {
   "cell_type": "code",
   "execution_count": 16,
   "id": "cfabc84a-717d-40bc-acd3-a6c8b1771c17",
   "metadata": {},
   "outputs": [
    {
     "data": {
      "text/plain": [
       "10"
      ]
     },
     "execution_count": 16,
     "metadata": {},
     "output_type": "execute_result"
    }
   ],
   "source": [
    "myrdd.count()"
   ]
  },
  {
   "cell_type": "code",
   "execution_count": 17,
   "id": "4b7aea36-5e83-4e5a-9198-b821e9ed600f",
   "metadata": {},
   "outputs": [
    {
     "data": {
      "text/plain": [
       "True"
      ]
     },
     "execution_count": 17,
     "metadata": {},
     "output_type": "execute_result"
    }
   ],
   "source": [
    "myrdd.is_cached"
   ]
  },
  {
   "cell_type": "code",
   "execution_count": 19,
   "id": "9e8fa542-12e8-4dae-bce0-4568646ba52b",
   "metadata": {},
   "outputs": [
    {
     "name": "stdout",
     "output_type": "stream",
     "text": [
      "Memory Serialized 1x Replicated\n"
     ]
    }
   ],
   "source": [
    "print(myrdd.getStorageLevel())"
   ]
  },
  {
   "cell_type": "code",
   "execution_count": 22,
   "id": "666f82b4-a542-4933-ad96-86d7ab47afa3",
   "metadata": {},
   "outputs": [],
   "source": [
    "from pyspark import StorageLevel"
   ]
  },
  {
   "cell_type": "code",
   "execution_count": 23,
   "id": "487ad06a-5e87-4542-b1c9-ac98b215bbc8",
   "metadata": {},
   "outputs": [
    {
     "data": {
      "text/plain": [
       "[1, 4, 9, 16, 25, 36, 49, 64, 81, 100]"
      ]
     },
     "execution_count": 23,
     "metadata": {},
     "output_type": "execute_result"
    }
   ],
   "source": [
    "myrdd2 = myrdd.map(lambda x: x**2)\n",
    "myrdd2.collect()"
   ]
  },
  {
   "cell_type": "code",
   "execution_count": 24,
   "id": "bf4eda09-e05c-49d6-9eee-65e53b8b76d7",
   "metadata": {},
   "outputs": [
    {
     "data": {
      "text/plain": [
       "PythonRDD[2] at collect at /tmp/ipykernel_1260/4217067424.py:2"
      ]
     },
     "execution_count": 24,
     "metadata": {},
     "output_type": "execute_result"
    }
   ],
   "source": [
    "myrdd2.persist(StorageLevel.MEMORY_AND_DISK)"
   ]
  },
  {
   "cell_type": "code",
   "execution_count": 26,
   "id": "22c5aa09-f7fa-4756-8819-f14d4f6a74d5",
   "metadata": {},
   "outputs": [
    {
     "data": {
      "text/plain": [
       "10"
      ]
     },
     "execution_count": 26,
     "metadata": {},
     "output_type": "execute_result"
    }
   ],
   "source": [
    "myrdd2.count()"
   ]
  },
  {
   "cell_type": "code",
   "execution_count": 28,
   "id": "8b74eb8c-58d6-46b0-a2a8-247df242e9f9",
   "metadata": {},
   "outputs": [
    {
     "name": "stdout",
     "output_type": "stream",
     "text": [
      "Disk Memory Serialized 1x Replicated\n"
     ]
    }
   ],
   "source": [
    "print(myrdd2.getStorageLevel())"
   ]
  },
  {
   "cell_type": "code",
   "execution_count": 29,
   "id": "672f420a-5dfd-4d13-a0b4-873c285250d5",
   "metadata": {},
   "outputs": [
    {
     "data": {
      "text/plain": [
       "PythonRDD[2] at collect at /tmp/ipykernel_1260/4217067424.py:2"
      ]
     },
     "execution_count": 29,
     "metadata": {},
     "output_type": "execute_result"
    }
   ],
   "source": [
    "myrdd2.unpersist()"
   ]
  },
  {
   "cell_type": "code",
   "execution_count": 30,
   "id": "df34dcbc-2cac-4d7f-884b-c5b779a3f87d",
   "metadata": {},
   "outputs": [
    {
     "data": {
      "text/plain": [
       "10"
      ]
     },
     "execution_count": 30,
     "metadata": {},
     "output_type": "execute_result"
    }
   ],
   "source": [
    "myrdd2.count()"
   ]
  },
  {
   "cell_type": "code",
   "execution_count": 31,
   "id": "a822d0e2-a2c6-4f0f-b8a4-076d3e0fd536",
   "metadata": {},
   "outputs": [
    {
     "data": {
      "text/plain": [
       "False"
      ]
     },
     "execution_count": 31,
     "metadata": {},
     "output_type": "execute_result"
    }
   ],
   "source": [
    "myrdd2.is_cached"
   ]
  },
  {
   "cell_type": "code",
   "execution_count": null,
   "id": "3bf71c80-89d0-404f-8dba-dacad5248ca6",
   "metadata": {},
   "outputs": [],
   "source": [
    "texto_rdd = sc.textFile(\"s3://path/large_text.csv\")\n",
    "texto_rdd.persist(memory_and_disk)\n",
    "#operaciones con el texto_rdd\n",
    "#operaciones con el texto_rdd\n",
    "#operaciones con el texto_rdd\n",
    "#operaciones con el texto_rdd\n",
    "\n",
    "\n",
    "words_rdd = sc.textFile(\"words_key.csv\")\n",
    "\n",
    "join_rdd = texto_rdd.join(words_rdd)\n",
    "\n",
    "join_rdd.count()\n"
   ]
  }
 ],
 "metadata": {
  "kernelspec": {
   "display_name": "Python 3.8.5 64-bit",
   "language": "python",
   "name": "python3"
  },
  "language_info": {
   "codemirror_mode": {
    "name": "ipython",
    "version": 3
   },
   "file_extension": ".py",
   "mimetype": "text/x-python",
   "name": "python",
   "nbconvert_exporter": "python",
   "pygments_lexer": "ipython3",
   "version": "3.8.5"
  },
  "vscode": {
   "interpreter": {
    "hash": "b081a66ee97bd2b6a16f43955f1d810b7ea816d6eaeb65e157ef9e038445f0c6"
   }
  }
 },
 "nbformat": 4,
 "nbformat_minor": 5
}
