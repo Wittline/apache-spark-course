{
 "cells": [
  {
   "cell_type": "markdown",
   "id": "9b7028d4-2655-4550-a1ce-e9d5adab6547",
   "metadata": {},
   "source": [
    "# RDDs"
   ]
  },
  {
   "cell_type": "markdown",
   "id": "6baf4ebe-34c6-44e1-9ba3-8cc072d2bb43",
   "metadata": {},
   "source": [
    "### RRD ACCIONES COMUNES\n",
    "RDD tambien puede venir con valores en tuplas (CLAVE, VALOR)\n",
    "\n",
    "- **count**: retorna el numero de elementos\n",
    "- **first**: retorna el primer elemento del RDD\n",
    "- **take**: retorna un arreglo con los primeros N elementos\n",
    "- **takeSample(False,3)**\n",
    "- **top**: Orden descendente\n",
    "- **takeOrdered**: Orden ascendente\n",
    "- **collect**: retorna todos los elementos del RDD en forma de arreglo\n",
    "- **reduce**: Combina elementos utilizando un operador\n",
    "- **fold**: es lo mismo que reduce, pero permite rdds vacios\n",
    "- **agregate(valorcero, seqop, combop)**: acumula los resultados de cada particion, acumula los resultados de todas las particiones \n",
    "- **countApprox**: aproximado de count\n",
    "- **countApproxDistinct**: aproximado de valores unicos\n",
    "- **countByValue**: retorna el numero de veces que aparece cada elemento como dictionary\n",
    "- **countByKey**"
   ]
  },
  {
   "cell_type": "markdown",
   "id": "b88233a7-8118-4f82-a18b-4aa410136ff0",
   "metadata": {},
   "source": [
    "### RRD TRANSFORMACIONES COMUNES\n",
    "\n",
    "- **map**: Convierte cada elemento y no cambia el numero de elementos. (Ultima letra de una lista de palabras)\n",
    "- **flatMap**: Convierte cada elemento y cambia el numero de elementos (Convertimos todo un cuerpo de texto o \"string\" a una lista de palabras del texto)\n",
    "- **filter**: Ejecuta una funcion y retorna los elementos que son TRUE.\n",
    "- **ReduceByKey**: Adiciona elementos pares usando una funcion que retorna  pares RDD.\n",
    "- **foldByKey**: \n",
    "- **sample(withRePlacemnt, fraction, seed)**:puede o no puede escoger mas de un elemento a la vez, el tamaño de la muestra, y generador automatico.\n",
    "- **distinct**: retorna un nuevo rdd sin duplicados\n",
    "- **groupBy**: retorna un rdd con datos agrupados en formato (K,V)\n",
    "- **groupByKey**\n",
    "- **combineByKey** (createcombiner, mergevalue, mergecombiners )\n",
    "- **sortByKey**\n",
    "- **union**\n",
    "- **intersection**\n",
    "- **subtract**\n",
    "- **subtractByKey**\n",
    "- **cartesian**\n",
    "- **joins**\n",
    "- **cogroup**:"
   ]
  },
  {
   "cell_type": "markdown",
   "id": "f2aa29fd-f30b-474d-9993-75689d39fe19",
   "metadata": {},
   "source": [
    "# FUNCTIONES EN PYTHON"
   ]
  },
  {
   "cell_type": "code",
   "execution_count": null,
   "id": "8cd9ba70-e111-4673-b3dd-078a7fc103f7",
   "metadata": {},
   "outputs": [],
   "source": [
    "from math import sqrt\n",
    "def is_prime(n):\n",
    "    flag = 0\n",
    "    if n > 1:\n",
    "        for i in range(2, int(sqrt(n)) + 1):\n",
    "            if n % i == 0:\n",
    "                flag = 1\n",
    "                break\n",
    "        return flag == 0\n",
    "    else:\n",
    "        return False"
   ]
  },
  {
   "cell_type": "code",
   "execution_count": null,
   "id": "910502e7-78e7-44d2-b28e-b56af90b651b",
   "metadata": {},
   "outputs": [],
   "source": [
    "is_prime(3)"
   ]
  },
  {
   "cell_type": "code",
   "execution_count": null,
   "id": "9302486e-75bc-4b88-a7ae-cab68579c5b9",
   "metadata": {},
   "outputs": [],
   "source": [
    "is_prime(4)"
   ]
  },
  {
   "cell_type": "code",
   "execution_count": null,
   "id": "a5623dbb-479e-43e6-89cd-73c1c8a795a8",
   "metadata": {},
   "outputs": [],
   "source": [
    "def squaredNumber(n): return n**2"
   ]
  },
  {
   "cell_type": "code",
   "execution_count": null,
   "id": "92c970b2-351a-4b2c-9436-70e34eae1d96",
   "metadata": {},
   "outputs": [],
   "source": [
    "squaredNumber(2)"
   ]
  },
  {
   "cell_type": "code",
   "execution_count": null,
   "id": "940403d9-5523-49f3-9ae1-7047fc008ee7",
   "metadata": {},
   "outputs": [],
   "source": [
    "squaredNumber(4)"
   ]
  },
  {
   "cell_type": "code",
   "execution_count": null,
   "id": "ff90e015-3d80-48c3-9e53-a774bbe2251f",
   "metadata": {},
   "outputs": [],
   "source": [
    "is_even = lambda n: n%2 == 0"
   ]
  },
  {
   "cell_type": "code",
   "execution_count": null,
   "id": "91351a71-07e6-467e-b38b-b87a3bc3a593",
   "metadata": {},
   "outputs": [],
   "source": [
    "is_even(3)"
   ]
  },
  {
   "cell_type": "code",
   "execution_count": null,
   "id": "2311fe71-372c-4ffb-8b4a-43a8322be949",
   "metadata": {},
   "outputs": [],
   "source": [
    "is_even(4)"
   ]
  },
  {
   "cell_type": "code",
   "execution_count": null,
   "id": "ef07dc64-7ba5-4577-a160-78db2695570c",
   "metadata": {},
   "outputs": [],
   "source": [
    "equalFirstLast = lambda s: s[0]==s[-1]"
   ]
  },
  {
   "cell_type": "code",
   "execution_count": null,
   "id": "d55836fe-b328-4365-8427-83e0253da59c",
   "metadata": {},
   "outputs": [],
   "source": [
    "equalFirstLast('hola')"
   ]
  },
  {
   "cell_type": "code",
   "execution_count": null,
   "id": "9e01cb99-eb18-474d-9b05-c87a68de6b5e",
   "metadata": {},
   "outputs": [],
   "source": [
    "equalFirstLast('holh')"
   ]
  },
  {
   "cell_type": "code",
   "execution_count": null,
   "id": "05c9c81d-ebdf-439a-9357-bbaf9d87b19d",
   "metadata": {},
   "outputs": [],
   "source": [
    "add = lambda x,y: x + y"
   ]
  },
  {
   "cell_type": "code",
   "execution_count": null,
   "id": "a9829c9c-93ac-44a4-82b1-a68bd4956289",
   "metadata": {},
   "outputs": [],
   "source": [
    "add(2,3)"
   ]
  },
  {
   "cell_type": "code",
   "execution_count": null,
   "id": "411c33f6-cae4-476a-85f8-15b14d667845",
   "metadata": {},
   "outputs": [],
   "source": [
    "from pyspark import SparkContext\n",
    "from operator import add, sub, mul"
   ]
  },
  {
   "cell_type": "code",
   "execution_count": null,
   "id": "527ca5bc-1ae1-46b5-8f3b-2c175a3d09e7",
   "metadata": {},
   "outputs": [],
   "source": [
    "sc.stop()\n",
    "sc = SparkContext()"
   ]
  },
  {
   "cell_type": "code",
   "execution_count": null,
   "id": "a6818353-76c9-4a31-9522-a4f551377373",
   "metadata": {},
   "outputs": [],
   "source": [
    "frases = sc.textFile('frases_mexicanas.txt')"
   ]
  },
  {
   "cell_type": "code",
   "execution_count": null,
   "id": "0a52194a-e8a0-4516-b2b0-964fbe01d331",
   "metadata": {},
   "outputs": [],
   "source": [
    "frases"
   ]
  },
  {
   "cell_type": "code",
   "execution_count": null,
   "id": "6ae74728-9566-4283-92e2-c715d62e50e6",
   "metadata": {},
   "outputs": [],
   "source": [
    "frases.collect()"
   ]
  },
  {
   "cell_type": "code",
   "execution_count": null,
   "id": "7f30f3c1-0464-4d35-8d9c-a9d9d1bd3a9a",
   "metadata": {},
   "outputs": [],
   "source": [
    "frases.count()"
   ]
  },
  {
   "cell_type": "code",
   "execution_count": null,
   "id": "c54f2e65-0d9f-4298-8aec-1baa05cc056a",
   "metadata": {},
   "outputs": [],
   "source": [
    "frases.first()"
   ]
  },
  {
   "cell_type": "code",
   "execution_count": null,
   "id": "87969edf-7985-4d74-8994-1a31b3f18aec",
   "metadata": {},
   "outputs": [],
   "source": [
    "keywords_rdd = frases.filter(lambda line: 'puebla' in line)"
   ]
  },
  {
   "cell_type": "code",
   "execution_count": null,
   "id": "9c161d52-ac33-48fb-ba3c-a7faecf4f66f",
   "metadata": {},
   "outputs": [],
   "source": [
    "keywords_rdd.collect()"
   ]
  },
  {
   "cell_type": "code",
   "execution_count": null,
   "id": "f0f1fdf1-4f46-4590-acc5-a2df68b96517",
   "metadata": {},
   "outputs": [],
   "source": [
    "lista = [2,3,4,5,6,7,8]"
   ]
  },
  {
   "cell_type": "code",
   "execution_count": null,
   "id": "560afc79-9608-4168-8d5b-2d0c56e7e563",
   "metadata": {},
   "outputs": [],
   "source": [
    "myrdd = sc.parallelize(lista, 3)"
   ]
  },
  {
   "cell_type": "code",
   "execution_count": null,
   "id": "b4535bf7-e683-4dd4-b6e9-f7832339a751",
   "metadata": {},
   "outputs": [],
   "source": [
    "myrdd.getNumPartitions()"
   ]
  },
  {
   "cell_type": "code",
   "execution_count": null,
   "id": "84f341c5-a82d-4823-8ae4-01febf889b30",
   "metadata": {},
   "outputs": [],
   "source": [
    "myrdd.glom().collect()"
   ]
  },
  {
   "cell_type": "code",
   "execution_count": null,
   "id": "6f9d64fe-4e2e-437a-86bd-5f46115b0581",
   "metadata": {},
   "outputs": [],
   "source": [
    "myrdd_filtered = myrdd.filter(lambda n: n % 2==0)"
   ]
  },
  {
   "cell_type": "code",
   "execution_count": null,
   "id": "571151f1-f6ce-4de2-af44-d3f1688bb26b",
   "metadata": {},
   "outputs": [],
   "source": [
    "myrdd_filtered.collect()"
   ]
  },
  {
   "cell_type": "code",
   "execution_count": null,
   "id": "3881c0d3-b1b7-4efc-85ab-3281154d7325",
   "metadata": {},
   "outputs": [],
   "source": [
    "myrdd_filtered = myrdd.filter(is_even)"
   ]
  },
  {
   "cell_type": "code",
   "execution_count": null,
   "id": "6f309c49-f029-4b90-ac38-66f3c0fd25c2",
   "metadata": {},
   "outputs": [],
   "source": [
    "myrdd_filtered.collect()"
   ]
  },
  {
   "cell_type": "code",
   "execution_count": null,
   "id": "49a48b2a-378e-4f82-952d-21ba6aff9f92",
   "metadata": {},
   "outputs": [],
   "source": [
    "def addition(x):\n",
    "    return x+1"
   ]
  },
  {
   "cell_type": "code",
   "execution_count": null,
   "id": "ccde1b8a-9f72-4c97-9d1f-c97e9dc8ce61",
   "metadata": {},
   "outputs": [],
   "source": [
    "myrdd_filtered = myrdd.map(addition)"
   ]
  },
  {
   "cell_type": "code",
   "execution_count": null,
   "id": "4868cdaf-2388-4030-a23c-0c9d0a3e5919",
   "metadata": {},
   "outputs": [],
   "source": [
    "myrdd_filtered.collect()"
   ]
  },
  {
   "cell_type": "code",
   "execution_count": null,
   "id": "7746f271-5814-406f-a0ba-3c4a4c43dcf6",
   "metadata": {},
   "outputs": [],
   "source": [
    "squared_rdd = (myrdd.map(addition)\n",
    "                    .map(lambda x: (x,x**2)))\n",
    "squared_rdd.collect()"
   ]
  },
  {
   "cell_type": "code",
   "execution_count": null,
   "id": "4716bd4c-02cc-4928-8003-5b33bbf2cfc9",
   "metadata": {},
   "outputs": [],
   "source": [
    "squared_rdd = (myrdd.map(addition)\n",
    "                    .flatMap(lambda x: (x,x**2)))\n",
    "squared_rdd.collect()"
   ]
  },
  {
   "cell_type": "code",
   "execution_count": null,
   "id": "f2d5b12b-c396-4ab5-9fb6-4e19b42bf23f",
   "metadata": {},
   "outputs": [],
   "source": [
    "squared_rdd.sample(False, 0.5).collect()"
   ]
  },
  {
   "cell_type": "code",
   "execution_count": null,
   "id": "6a994172-b522-416c-94b4-e514132648f4",
   "metadata": {},
   "outputs": [],
   "source": [
    "squared_rdd.sample(True, 0.5).collect()"
   ]
  },
  {
   "cell_type": "code",
   "execution_count": null,
   "id": "93ebeacf-35b3-4bb0-98c3-8222b1d47a6e",
   "metadata": {},
   "outputs": [],
   "source": [
    "n_list = [1,1,2,2,3,3,4,4,5,5]"
   ]
  },
  {
   "cell_type": "code",
   "execution_count": null,
   "id": "954449d7-42a4-4b7f-be11-73c909c46461",
   "metadata": {},
   "outputs": [],
   "source": [
    "n_rdd = sc.parallelize(n_list)"
   ]
  },
  {
   "cell_type": "code",
   "execution_count": null,
   "id": "2d40dea1-e182-4035-9b45-d509c270241e",
   "metadata": {},
   "outputs": [],
   "source": [
    "n_rdd.distinct().collect()"
   ]
  },
  {
   "cell_type": "code",
   "execution_count": null,
   "id": "caa6a755-953a-41ca-9550-23612501939e",
   "metadata": {},
   "outputs": [],
   "source": [
    "grouped_rdd = n_rdd.groupBy(is_even)"
   ]
  },
  {
   "cell_type": "code",
   "execution_count": null,
   "id": "594eca5a-b3f3-4fe8-b1f4-ffb48bf71a77",
   "metadata": {},
   "outputs": [],
   "source": [
    "grouped_rdd.collect()"
   ]
  },
  {
   "cell_type": "code",
   "execution_count": null,
   "id": "4209a7ff-8821-4e8d-baa2-4819c20bc771",
   "metadata": {},
   "outputs": [],
   "source": [
    "for x, y in grouped_rdd.collect():\n",
    "    print(x, sorted(y))"
   ]
  },
  {
   "cell_type": "code",
   "execution_count": null,
   "id": "013b0389-3dfc-44ba-98c1-be710d4f5391",
   "metadata": {},
   "outputs": [],
   "source": [
    "rda = sc.parallelize([1,2,3,4,5])\n",
    "rdb = sc.parallelize([4,5,6,7])"
   ]
  },
  {
   "cell_type": "code",
   "execution_count": null,
   "id": "a106e3bc-3603-42f7-96aa-a96ec0918330",
   "metadata": {},
   "outputs": [],
   "source": [
    "rddu = rda.union(rdb)\n",
    "rddu.collect()"
   ]
  },
  {
   "cell_type": "code",
   "execution_count": null,
   "id": "5a47a727-762e-4975-a40b-68995846ced6",
   "metadata": {},
   "outputs": [],
   "source": [
    "rddi = rda.intersection(rdb)\n",
    "rddi.collect()"
   ]
  },
  {
   "cell_type": "code",
   "execution_count": null,
   "id": "497a11dd-ae2f-4cfc-8480-3de5cb3e8130",
   "metadata": {},
   "outputs": [],
   "source": [
    "rds= rdb.subtract(rda)\n",
    "rds.collect()"
   ]
  },
  {
   "cell_type": "code",
   "execution_count": null,
   "id": "012b4fd6-f354-4fa2-a277-b74be75e8c65",
   "metadata": {},
   "outputs": [],
   "source": [
    "rdc = rdb.cartesian(rda)\n",
    "rdc.collect()"
   ]
  },
  {
   "cell_type": "code",
   "execution_count": null,
   "id": "0e063b94-ae37-4b18-9220-577fee612a9c",
   "metadata": {},
   "outputs": [],
   "source": [
    "rds.reduce(lambda x, y: x+y)"
   ]
  },
  {
   "cell_type": "code",
   "execution_count": null,
   "id": "8a8c9cae-7e99-42cf-ac80-3fee367810ec",
   "metadata": {},
   "outputs": [],
   "source": [
    "new_rdd = sc.parallelize(range(1,10), 4)\n",
    "new_rdd .getNumPartitions()"
   ]
  },
  {
   "cell_type": "code",
   "execution_count": null,
   "id": "2710df3c-688b-45ad-ac5d-70b94b490fbf",
   "metadata": {},
   "outputs": [],
   "source": [
    "new_rdd.glom().collect()"
   ]
  },
  {
   "cell_type": "code",
   "execution_count": null,
   "id": "a87ca3fe-7570-49f6-a36b-951ef9b637f4",
   "metadata": {},
   "outputs": [],
   "source": [
    "new_rdd.aggregate(0, lambda x, y: add(x,y), lambda x, y: sub(x,y))"
   ]
  },
  {
   "cell_type": "code",
   "execution_count": null,
   "id": "9c8fcfeb-9e8a-48f6-a894-60e3af5c9120",
   "metadata": {},
   "outputs": [],
   "source": [
    "new_rdd.countApprox(1, 0.5)"
   ]
  },
  {
   "cell_type": "code",
   "execution_count": null,
   "id": "5213c40e-28fb-438e-b4f1-f79b70e90591",
   "metadata": {},
   "outputs": [],
   "source": [
    "new_rdd.countApproxDistinct(0.05)"
   ]
  },
  {
   "cell_type": "code",
   "execution_count": null,
   "id": "8673d92a-73e1-4149-9b87-fe54e1d84529",
   "metadata": {},
   "outputs": [],
   "source": [
    "new_rdd.countByValue()"
   ]
  },
  {
   "cell_type": "markdown",
   "id": "7f01aacd-1940-493a-8261-db4fa87f2c6f",
   "metadata": {
    "tags": []
   },
   "source": [
    "# Ejercicio: \"Count specific words\": gas, food, economy"
   ]
  },
  {
   "cell_type": "code",
   "execution_count": 354,
   "id": "7b942ee4-42ac-4576-9c90-49ca313d5d06",
   "metadata": {},
   "outputs": [],
   "source": [
    "sc.stop()\n",
    "sc = SparkContext()"
   ]
  },
  {
   "cell_type": "code",
   "execution_count": 355,
   "id": "d74d41ef-3af7-4d0c-9858-47d0612863fb",
   "metadata": {},
   "outputs": [],
   "source": [
    "rdd = sc.textFile(\"amlo_biden_speech.txt\")"
   ]
  },
  {
   "cell_type": "code",
   "execution_count": 356,
   "id": "8d2db536-f5d6-4828-bef8-9a691b6cc9f1",
   "metadata": {},
   "outputs": [
    {
     "data": {
      "text/plain": [
       "['And I send my greetings to the good, hardworking, the fine, and very progressive people of the United States.  My greetings.',\n",
       " '',\n",
       " '',\n",
       " '',\n",
       " '',\n",
       " 'PRESIDENT LÓPEZ OBRADOR:  (As interpreted.)  — of lowering — lowering prices, yes.  That’s it.',\n",
       " 'As I told you from the beginning — and I mean it — I see, we see Mexico as an equal partner.  Our nations share close ties in family and friendship, and we’re united through our values and our history.',\n",
       " 'And I’m anxious for us to get into some detail about the explicit five points you raised and how we can make sure we work together on all five of those points. ',\n",
       " 'This is the second meeting in just eight months — the second meeting we are holding with you, Mr. President, here at the White House. ',\n",
       " 'During President Franklin D. Roosevelt’s administration, we were able to see a policy that we believe it was a very efficient and very fraternal policy.']"
      ]
     },
     "execution_count": 356,
     "metadata": {},
     "output_type": "execute_result"
    }
   ],
   "source": [
    "rdd.takeSample(False, 10)"
   ]
  },
  {
   "cell_type": "code",
   "execution_count": 357,
   "id": "5fa23b85-2b16-4b01-ab25-0922f510da43",
   "metadata": {},
   "outputs": [],
   "source": [
    "words = rdd.flatMap(lambda l: l.split(\" \"))\n"
   ]
  },
  {
   "cell_type": "code",
   "execution_count": null,
   "id": "d4eebf8f-2429-42c4-8224-20f60f4a1706",
   "metadata": {},
   "outputs": [],
   "source": [
    "words.collect()"
   ]
  },
  {
   "cell_type": "code",
   "execution_count": 358,
   "id": "484d2159-da16-4099-93c0-36b4a7b28567",
   "metadata": {},
   "outputs": [],
   "source": [
    "words = words.map(lambda s: s.strip(\" .,:*-’\\\"\"))"
   ]
  },
  {
   "cell_type": "code",
   "execution_count": 359,
   "id": "8c5a23c4-14ef-4c88-9a2b-958d0f496ecc",
   "metadata": {},
   "outputs": [],
   "source": [
    "words = words.countByValue()"
   ]
  },
  {
   "cell_type": "code",
   "execution_count": 360,
   "id": "5e4f3ffc-a066-4bb0-9ed3-de11254ed11b",
   "metadata": {},
   "outputs": [],
   "source": [
    "keywords = [\"gas\", \"food\", \"economic\"]"
   ]
  },
  {
   "cell_type": "code",
   "execution_count": 362,
   "id": "85a16776-b570-4472-9e0f-e7ca90d0b177",
   "metadata": {},
   "outputs": [
    {
     "name": "stdout",
     "output_type": "stream",
     "text": [
      "gas 2\n",
      "economic 3\n"
     ]
    }
   ],
   "source": [
    "for k in keywords:    \n",
    "    if k in words:\n",
    "        print(k, words[k])"
   ]
  },
  {
   "cell_type": "code",
   "execution_count": 5,
   "id": "9f35cf3f-0334-43d1-be47-e8c17041f1c5",
   "metadata": {},
   "outputs": [],
   "source": [
    "from pyspark import SparkContext\n",
    "sc = SparkContext()"
   ]
  },
  {
   "cell_type": "code",
   "execution_count": 6,
   "id": "aeff69f3-c036-4841-9710-ab71f42df554",
   "metadata": {},
   "outputs": [],
   "source": [
    "tpl = [(\"a\", 7),(\"b\", 1),(\"c\", 4),(\"a\", 6),(\"b\", 3),(\"c\", 2)]"
   ]
  },
  {
   "cell_type": "code",
   "execution_count": 7,
   "id": "d614f94e-4379-44f0-89e5-390b0237eec2",
   "metadata": {},
   "outputs": [],
   "source": [
    "pair_rdd = sc.parallelize(tpl) "
   ]
  },
  {
   "cell_type": "code",
   "execution_count": 8,
   "id": "b0cf65a5-fc8b-4e99-baf0-042bb0bbab11",
   "metadata": {},
   "outputs": [
    {
     "data": {
      "text/plain": [
       "[('a', 7), ('b', 1), ('c', 4), ('a', 6), ('b', 3), ('c', 2)]"
      ]
     },
     "execution_count": 8,
     "metadata": {},
     "output_type": "execute_result"
    }
   ],
   "source": [
    "pair_rdd.collect()"
   ]
  },
  {
   "cell_type": "code",
   "execution_count": 9,
   "id": "7197bd99-64ac-4203-bc3d-60431bbada05",
   "metadata": {},
   "outputs": [
    {
     "data": {
      "text/plain": [
       "[('b', 4), ('a', 13), ('c', 6)]"
      ]
     },
     "execution_count": 9,
     "metadata": {},
     "output_type": "execute_result"
    }
   ],
   "source": [
    "add = lambda x, y: x+y\n",
    "\n",
    "rdd_reduce = pair_rdd.reduceByKey(add)\n",
    "rdd_reduce.collect()"
   ]
  },
  {
   "cell_type": "code",
   "execution_count": 11,
   "id": "5c8b00f7-6a63-4ebf-a1e3-8535b65c9b00",
   "metadata": {},
   "outputs": [
    {
     "data": {
      "text/plain": [
       "[('b', 6), ('a', 15), ('c', 8)]"
      ]
     },
     "execution_count": 11,
     "metadata": {},
     "output_type": "execute_result"
    }
   ],
   "source": [
    "rdd_fold =  pair_rdd.foldByKey(, add)\n",
    "rdd_fold.collect()\n",
    "\n",
    "#combineByKey() <---- igual al agreggate()"
   ]
  },
  {
   "cell_type": "code",
   "execution_count": 12,
   "id": "b33d5c09-ea9c-47ae-a002-eb1d2cfdd1b9",
   "metadata": {},
   "outputs": [
    {
     "data": {
      "text/plain": [
       "[('b', <pyspark.resultiterable.ResultIterable at 0x7f74b2cc2440>),\n",
       " ('a', <pyspark.resultiterable.ResultIterable at 0x7f753017d090>),\n",
       " ('c', <pyspark.resultiterable.ResultIterable at 0x7f753017f3d0>)]"
      ]
     },
     "execution_count": 12,
     "metadata": {},
     "output_type": "execute_result"
    }
   ],
   "source": [
    "rdd_group = pair_rdd.groupByKey()\n",
    "rdd_group.collect()"
   ]
  },
  {
   "cell_type": "code",
   "execution_count": 14,
   "id": "ba71a994-c82a-46bb-bd13-311dfb9c49a3",
   "metadata": {},
   "outputs": [
    {
     "name": "stdout",
     "output_type": "stream",
     "text": [
      "b [1, 3]\n",
      "a [6, 7]\n",
      "c [2, 4]\n"
     ]
    }
   ],
   "source": [
    "for x, y in rdd_group.collect():\n",
    "    print(x, sorted(y))"
   ]
  },
  {
   "cell_type": "code",
   "execution_count": 15,
   "id": "aaa789ba-1158-4dc5-92c2-0be3a6e56ce5",
   "metadata": {},
   "outputs": [
    {
     "data": {
      "text/plain": [
       "[('a', 7), ('a', 6), ('b', 1), ('b', 3), ('c', 4), ('c', 2)]"
      ]
     },
     "execution_count": 15,
     "metadata": {},
     "output_type": "execute_result"
    }
   ],
   "source": [
    "pair_rdd.sortByKey().collect()"
   ]
  },
  {
   "cell_type": "code",
   "execution_count": 17,
   "id": "3cf0e22f-88f7-4e72-b98c-1f499525dda0",
   "metadata": {},
   "outputs": [],
   "source": [
    "rdd1 = sc.parallelize([(\"a\", 3), (\"b\", 6)])\n",
    "rdd2 = sc.parallelize([(\"a\", 1), (\"b\", 5), (\"c\", 8)])"
   ]
  },
  {
   "cell_type": "code",
   "execution_count": 18,
   "id": "8e361f64-96ea-434a-8c3a-7d4acfc51ba7",
   "metadata": {},
   "outputs": [
    {
     "data": {
      "text/plain": [
       "[('b', (6, 5)), ('a', (3, 1))]"
      ]
     },
     "execution_count": 18,
     "metadata": {},
     "output_type": "execute_result"
    }
   ],
   "source": [
    "rdd1.join(rdd2).collect()"
   ]
  },
  {
   "cell_type": "code",
   "execution_count": 19,
   "id": "f68adda1-f186-4336-9562-01db757b9ce1",
   "metadata": {},
   "outputs": [
    {
     "data": {
      "text/plain": [
       "[('b', (6, 5)), ('a', (3, 1))]"
      ]
     },
     "execution_count": 19,
     "metadata": {},
     "output_type": "execute_result"
    }
   ],
   "source": [
    "rdd1.leftOuterJoin(rdd2).collect()"
   ]
  },
  {
   "cell_type": "code",
   "execution_count": 22,
   "id": "d7d8ef60-b6c5-4165-8b2e-82f15b40adb1",
   "metadata": {},
   "outputs": [
    {
     "data": {
      "text/plain": [
       "[('b', (5, 6)), ('a', (1, 3)), ('c', (8, None))]"
      ]
     },
     "execution_count": 22,
     "metadata": {},
     "output_type": "execute_result"
    }
   ],
   "source": [
    "rdd2.leftOuterJoin(rdd1).collect()"
   ]
  },
  {
   "cell_type": "code",
   "execution_count": 23,
   "id": "6fa80e0d-2604-448a-99d4-9ab62b63b094",
   "metadata": {},
   "outputs": [
    {
     "data": {
      "text/plain": [
       "[('b', (5, 6)), ('a', (1, 3))]"
      ]
     },
     "execution_count": 23,
     "metadata": {},
     "output_type": "execute_result"
    }
   ],
   "source": [
    "rdd2.rightOuterJoin(rdd1).collect()"
   ]
  },
  {
   "cell_type": "code",
   "execution_count": 24,
   "id": "35a9c297-2d8d-46db-abae-65bd48616099",
   "metadata": {},
   "outputs": [
    {
     "data": {
      "text/plain": [
       "[('b', (6, 5)), ('a', (3, 1)), ('c', (None, 8))]"
      ]
     },
     "execution_count": 24,
     "metadata": {},
     "output_type": "execute_result"
    }
   ],
   "source": [
    "rdd1.rightOuterJoin(rdd2).collect()"
   ]
  },
  {
   "cell_type": "code",
   "execution_count": 25,
   "id": "c26b0671-a110-4ddb-911c-93f583d8c9ab",
   "metadata": {},
   "outputs": [
    {
     "data": {
      "text/plain": [
       "[('b', (6, 5)), ('a', (3, 1)), ('c', (None, 8))]"
      ]
     },
     "execution_count": 25,
     "metadata": {},
     "output_type": "execute_result"
    }
   ],
   "source": [
    "rdd1.fullOuterJoin(rdd2).collect()"
   ]
  },
  {
   "cell_type": "code",
   "execution_count": 26,
   "id": "ceecf20a-da6e-46ba-a14f-12eb08e755b6",
   "metadata": {},
   "outputs": [
    {
     "data": {
      "text/plain": [
       "[('b', (5, 6)), ('a', (1, 3)), ('c', (8, None))]"
      ]
     },
     "execution_count": 26,
     "metadata": {},
     "output_type": "execute_result"
    }
   ],
   "source": [
    "rdd2.fullOuterJoin(rdd1).collect()"
   ]
  },
  {
   "cell_type": "code",
   "execution_count": 28,
   "id": "d41a6d54-a8cd-434e-a4fa-35ad1adab8d4",
   "metadata": {},
   "outputs": [
    {
     "data": {
      "text/plain": [
       "[]"
      ]
     },
     "execution_count": 28,
     "metadata": {},
     "output_type": "execute_result"
    }
   ],
   "source": [
    "rdd1.subtractByKey(rdd2).collect()"
   ]
  },
  {
   "cell_type": "code",
   "execution_count": 29,
   "id": "75ff260d-7fc1-4167-9e80-f3321cd309b2",
   "metadata": {},
   "outputs": [
    {
     "data": {
      "text/plain": [
       "[('c', 8)]"
      ]
     },
     "execution_count": 29,
     "metadata": {},
     "output_type": "execute_result"
    }
   ],
   "source": [
    "rdd2.subtractByKey(rdd1).collect()"
   ]
  },
  {
   "cell_type": "code",
   "execution_count": 30,
   "id": "383fb683-49fd-4807-9614-67700df6090e",
   "metadata": {},
   "outputs": [
    {
     "data": {
      "text/plain": [
       "defaultdict(int, {'a': 1, 'b': 1})"
      ]
     },
     "execution_count": 30,
     "metadata": {},
     "output_type": "execute_result"
    }
   ],
   "source": [
    "rdd1.countByKey()"
   ]
  },
  {
   "cell_type": "code",
   "execution_count": 31,
   "id": "e2a24e0a-0e0a-4a61-9318-8d1e6d231473",
   "metadata": {},
   "outputs": [
    {
     "data": {
      "text/plain": [
       "defaultdict(int, {'a': 2, 'b': 2, 'c': 1})"
      ]
     },
     "execution_count": 31,
     "metadata": {},
     "output_type": "execute_result"
    }
   ],
   "source": [
    "rdd1.union(rdd2).countByKey()"
   ]
  },
  {
   "cell_type": "code",
   "execution_count": null,
   "id": "816779e5-a6f6-440f-9024-b46431329872",
   "metadata": {},
   "outputs": [],
   "source": []
  }
 ],
 "metadata": {
  "kernelspec": {
   "display_name": "Python 3 (ipykernel)",
   "language": "python",
   "name": "python3"
  },
  "language_info": {
   "codemirror_mode": {
    "name": "ipython",
    "version": 3
   },
   "file_extension": ".py",
   "mimetype": "text/x-python",
   "name": "python",
   "nbconvert_exporter": "python",
   "pygments_lexer": "ipython3",
   "version": "3.10.6"
  },
  "vscode": {
   "interpreter": {
    "hash": "b081a66ee97bd2b6a16f43955f1d810b7ea816d6eaeb65e157ef9e038445f0c6"
   }
  }
 },
 "nbformat": 4,
 "nbformat_minor": 5
}
