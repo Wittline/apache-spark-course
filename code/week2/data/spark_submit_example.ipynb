{
 "cells": [
  {
   "cell_type": "code",
   "execution_count": 2,
   "id": "dc97bb97-10a6-4e0a-9027-bf2269176687",
   "metadata": {},
   "outputs": [
    {
     "name": "stdout",
     "output_type": "stream",
     "text": [
      "root\n",
      " |-- col1: string (nullable = true)\n",
      " |-- col2: integer (nullable = true)\n",
      " |-- col3: integer (nullable = true)\n",
      "\n",
      "root\n",
      " |-- item: string (nullable = true)\n",
      " |-- amount: integer (nullable = true)\n",
      " |-- year: integer (nullable = true)\n",
      "\n",
      "root\n",
      " |-- item: string (nullable = true)\n",
      " |-- amount: integer (nullable = true)\n",
      "\n"
     ]
    }
   ],
   "source": [
    "import pyspark\n",
    "from pyspark.sql import SparkSession\n",
    "from pyspark.sql.types import StructType, StructField, StringType, IntegerType\n",
    "from pyspark.sql.functions import col\n",
    "\n",
    "spark = SparkSession.builder.appName(\"mycoursespark\").getOrCreate()\n",
    "\n",
    "schema = StructType() \\\n",
    "    .add(\"col1\", StringType(), True)\\\n",
    "    .add(\"col2\", IntegerType(), True)\\\n",
    "    .add(\"col3\", IntegerType(), True)\n",
    "\n",
    "df_schema = spark.read.format(\"csv\") \\\n",
    "    .option(\"header\", True) \\\n",
    "    .schema(schema) \\\n",
    "    .load(\"test.csv\")\n",
    "\n",
    "df_schema.printSchema()\n",
    "\n",
    "df_schema_name_columns = df_schema.withColumnRenamed(\"col1\", \"item\") \\\n",
    "                        .withColumnRenamed(\"col2\", \"amount\") \\\n",
    "                        .withColumnRenamed(\"col3\", \"year\")\n",
    "\n",
    "\n",
    "df_schema_name_columns.printSchema()\n",
    "\n",
    "df_schema_name_columns_2 = df_schema_name_columns.select(col(\"item\"), col(\"amount\"))\n",
    "\n",
    "df_schema_name_columns_2.printSchema()\n",
    "\n",
    "df_schema_name_columns_2.write.options(header='True', delimiter=',') \\\n",
    "    .csv(\"test_schema\")\n",
    "\n"
   ]
  },
  {
   "cell_type": "code",
   "execution_count": null,
   "id": "df45fefa-2d87-4968-9d87-fb7d62df786e",
   "metadata": {},
   "outputs": [],
   "source": []
  }
 ],
 "metadata": {
  "kernelspec": {
   "display_name": "Python 3.8.5 64-bit",
   "language": "python",
   "name": "python3"
  },
  "language_info": {
   "codemirror_mode": {
    "name": "ipython",
    "version": 3
   },
   "file_extension": ".py",
   "mimetype": "text/x-python",
   "name": "python",
   "nbconvert_exporter": "python",
   "pygments_lexer": "ipython3",
   "version": "3.8.5"
  },
  "vscode": {
   "interpreter": {
    "hash": "b081a66ee97bd2b6a16f43955f1d810b7ea816d6eaeb65e157ef9e038445f0c6"
   }
  }
 },
 "nbformat": 4,
 "nbformat_minor": 5
}
