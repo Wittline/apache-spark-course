{
 "cells": [
  {
   "cell_type": "markdown",
   "id": "e3fe7257-47d2-4e5b-b2a6-c8ff713d5cdb",
   "metadata": {},
   "source": [
    "# DATAFRAMES"
   ]
  },
  {
   "cell_type": "code",
   "execution_count": 139,
   "id": "1531d7c6-e4f0-4589-8f85-b1ba2bb19cc2",
   "metadata": {},
   "outputs": [],
   "source": [
    "from pyspark.sql import SparkSession"
   ]
  },
  {
   "cell_type": "code",
   "execution_count": 140,
   "id": "166176cc-b92a-4d04-bdea-915779d36ea0",
   "metadata": {},
   "outputs": [],
   "source": [
    "spark = SparkSession.builder.appName(\"Dtaframes\").getOrCreate()"
   ]
  },
  {
   "cell_type": "code",
   "execution_count": 141,
   "id": "ce0a05e7-eb90-4e8e-b0cb-52231db6890d",
   "metadata": {},
   "outputs": [],
   "source": [
    "df = spark.read.json(\"companies.json\")"
   ]
  },
  {
   "cell_type": "code",
   "execution_count": 142,
   "id": "48761ecb-d07d-44a9-ad8a-5739d3e0d507",
   "metadata": {},
   "outputs": [
    {
     "name": "stdout",
     "output_type": "stream",
     "text": [
      "+--------+-----+\n",
      "|    name|sales|\n",
      "+--------+-----+\n",
      "|   apple| null|\n",
      "|  google| 2000|\n",
      "|facebook|  150|\n",
      "+--------+-----+\n",
      "\n"
     ]
    }
   ],
   "source": [
    "df.show()"
   ]
  },
  {
   "cell_type": "code",
   "execution_count": 143,
   "id": "4d4dd8d4-3932-4074-bba4-083fd846f9b6",
   "metadata": {},
   "outputs": [
    {
     "name": "stdout",
     "output_type": "stream",
     "text": [
      "root\n",
      " |-- name: string (nullable = true)\n",
      " |-- sales: long (nullable = true)\n",
      "\n"
     ]
    }
   ],
   "source": [
    "df.printSchema()"
   ]
  },
  {
   "cell_type": "code",
   "execution_count": 144,
   "id": "438d90fc-ebbf-4b8a-beab-3a7841a11bf1",
   "metadata": {},
   "outputs": [
    {
     "data": {
      "text/plain": [
       "['name', 'sales']"
      ]
     },
     "execution_count": 144,
     "metadata": {},
     "output_type": "execute_result"
    }
   ],
   "source": [
    "df.columns"
   ]
  },
  {
   "cell_type": "code",
   "execution_count": 145,
   "id": "76f4b140-245e-47f1-825e-18764d04cb6a",
   "metadata": {},
   "outputs": [
    {
     "name": "stdout",
     "output_type": "stream",
     "text": [
      "+-------+------+-----------------+\n",
      "|summary|  name|            sales|\n",
      "+-------+------+-----------------+\n",
      "|  count|     3|                2|\n",
      "|   mean|  null|           1075.0|\n",
      "| stddev|  null|1308.147545195113|\n",
      "|    min| apple|              150|\n",
      "|    max|google|             2000|\n",
      "+-------+------+-----------------+\n",
      "\n"
     ]
    }
   ],
   "source": [
    "df.describe().show()"
   ]
  },
  {
   "cell_type": "code",
   "execution_count": 146,
   "id": "2b4c759c-faf2-413d-8200-f955ac8cf48c",
   "metadata": {},
   "outputs": [],
   "source": [
    "from pyspark.sql.types import StructField, StructType, StringType, IntegerType"
   ]
  },
  {
   "cell_type": "code",
   "execution_count": 148,
   "id": "d4e91234-f20d-4a09-b4f0-b4dcc238e461",
   "metadata": {},
   "outputs": [],
   "source": [
    "schema = [StructField(\"sales\", IntegerType(), True), StructField(\"name\", StringType(), True)]"
   ]
  },
  {
   "cell_type": "code",
   "execution_count": 149,
   "id": "21a90b50-d4dc-48cc-baf1-bc51d6beb66d",
   "metadata": {},
   "outputs": [],
   "source": [
    "end_schema = StructType(fields = schema)"
   ]
  },
  {
   "cell_type": "code",
   "execution_count": 150,
   "id": "bdaa17b8-45c9-4288-b8f0-94417f685c49",
   "metadata": {},
   "outputs": [],
   "source": [
    "df = spark.read.json(\"companies.json\", schema = end_schema )"
   ]
  },
  {
   "cell_type": "code",
   "execution_count": 151,
   "id": "556bfb66-3c9c-44df-9176-915f2edc37fd",
   "metadata": {},
   "outputs": [
    {
     "name": "stdout",
     "output_type": "stream",
     "text": [
      "root\n",
      " |-- sales: integer (nullable = true)\n",
      " |-- name: string (nullable = true)\n",
      "\n"
     ]
    }
   ],
   "source": [
    "df.printSchema()"
   ]
  },
  {
   "cell_type": "code",
   "execution_count": 152,
   "id": "ce90a991-a644-4a5c-8f9a-57f48eb2c636",
   "metadata": {},
   "outputs": [
    {
     "name": "stdout",
     "output_type": "stream",
     "text": [
      "+-----+--------+\n",
      "|sales|    name|\n",
      "+-----+--------+\n",
      "| null|   apple|\n",
      "| 2000|  google|\n",
      "|  150|facebook|\n",
      "+-----+--------+\n",
      "\n"
     ]
    }
   ],
   "source": [
    "df.show()"
   ]
  },
  {
   "cell_type": "code",
   "execution_count": 155,
   "id": "8eb3445c-0bf8-47bb-8ba1-fb7f91fcdcb8",
   "metadata": {},
   "outputs": [
    {
     "data": {
      "text/plain": [
       "pyspark.sql.column.Column"
      ]
     },
     "execution_count": 155,
     "metadata": {},
     "output_type": "execute_result"
    }
   ],
   "source": [
    "type(df['sales'])"
   ]
  },
  {
   "cell_type": "code",
   "execution_count": 156,
   "id": "88ba6048-1989-47d9-8ba6-a7bf9be3bb47",
   "metadata": {},
   "outputs": [
    {
     "name": "stdout",
     "output_type": "stream",
     "text": [
      "+-----+\n",
      "|sales|\n",
      "+-----+\n",
      "| null|\n",
      "| 2000|\n",
      "|  150|\n",
      "+-----+\n",
      "\n"
     ]
    }
   ],
   "source": [
    "df.select(\"sales\").show()"
   ]
  },
  {
   "cell_type": "code",
   "execution_count": 161,
   "id": "252418d0-dbc5-40cc-9f72-13ecd5101a10",
   "metadata": {},
   "outputs": [
    {
     "data": {
      "text/plain": [
       "[Row(sales=None, name='apple'), Row(sales=2000, name='google')]"
      ]
     },
     "execution_count": 161,
     "metadata": {},
     "output_type": "execute_result"
    }
   ],
   "source": [
    "df.head(2)"
   ]
  },
  {
   "cell_type": "code",
   "execution_count": 162,
   "id": "0286ebf9-1fb7-426b-91d9-954b7007f7f2",
   "metadata": {},
   "outputs": [
    {
     "name": "stdout",
     "output_type": "stream",
     "text": [
      "+-----+--------+\n",
      "|sales|    name|\n",
      "+-----+--------+\n",
      "| null|   apple|\n",
      "| 2000|  google|\n",
      "|  150|facebook|\n",
      "+-----+--------+\n",
      "\n"
     ]
    }
   ],
   "source": [
    "df.select([\"sales\",\"name\"]).show()"
   ]
  },
  {
   "cell_type": "code",
   "execution_count": 164,
   "id": "5e0e849d-a808-4669-a229-a183070697e9",
   "metadata": {},
   "outputs": [
    {
     "name": "stdout",
     "output_type": "stream",
     "text": [
      "+-----+--------+----------+\n",
      "|sales|    name|new_column|\n",
      "+-----+--------+----------+\n",
      "| null|   apple|      null|\n",
      "| 2000|  google|      4000|\n",
      "|  150|facebook|       300|\n",
      "+-----+--------+----------+\n",
      "\n"
     ]
    }
   ],
   "source": [
    "df.withColumn(\"new_column\", df['sales']*2).show()"
   ]
  },
  {
   "cell_type": "code",
   "execution_count": 165,
   "id": "357bb05b-5a81-4fd7-9308-6f742df92254",
   "metadata": {},
   "outputs": [
    {
     "name": "stdout",
     "output_type": "stream",
     "text": [
      "+----------+--------+\n",
      "|sales_year|    name|\n",
      "+----------+--------+\n",
      "|      null|   apple|\n",
      "|      2000|  google|\n",
      "|       150|facebook|\n",
      "+----------+--------+\n",
      "\n"
     ]
    }
   ],
   "source": [
    "df.withColumnRenamed(\"sales\", \"sales_year\").show()"
   ]
  },
  {
   "cell_type": "code",
   "execution_count": 167,
   "id": "1ae54ca4-8422-4bb1-bbfa-d75cbfa7a9b6",
   "metadata": {},
   "outputs": [],
   "source": [
    "df.createOrReplaceTempView(\"companies\")"
   ]
  },
  {
   "cell_type": "code",
   "execution_count": 168,
   "id": "14022a0f-8cc9-49ef-89fe-fb1da3b4e463",
   "metadata": {},
   "outputs": [],
   "source": [
    "query = spark.sql(\"select * from companies where sales > 180\")"
   ]
  },
  {
   "cell_type": "code",
   "execution_count": 169,
   "id": "c4e6bc8e-b973-4198-a1e3-ab9cd4bf8573",
   "metadata": {},
   "outputs": [
    {
     "name": "stdout",
     "output_type": "stream",
     "text": [
      "+-----+------+\n",
      "|sales|  name|\n",
      "+-----+------+\n",
      "| 2000|google|\n",
      "+-----+------+\n",
      "\n"
     ]
    }
   ],
   "source": [
    "query.show()"
   ]
  },
  {
   "cell_type": "code",
   "execution_count": 171,
   "id": "f4231b8f-b0a4-415f-b828-bc816bbe7ce8",
   "metadata": {},
   "outputs": [],
   "source": [
    "df = spark.read.csv(\"apl.csv\", inferSchema= True, header = True)"
   ]
  },
  {
   "cell_type": "code",
   "execution_count": 172,
   "id": "212fe2f3-6088-4bee-8d17-e537da115c7c",
   "metadata": {},
   "outputs": [
    {
     "name": "stdout",
     "output_type": "stream",
     "text": [
      "+-------------------+---------+---------+---------+---------+---------+---------+\n",
      "|               Date|     Open|     High|      Low|    Close|Adj Close|   Volume|\n",
      "+-------------------+---------+---------+---------+---------+---------+---------+\n",
      "|2010-01-04 00:00:00|    30.49|30.642857|    30.34|30.572857|26.466835|123432400|\n",
      "|2010-01-05 00:00:00|30.657143|30.798571|30.464285|30.625713|26.512596|150476200|\n",
      "|2010-01-06 00:00:00|30.625713|30.747143|30.107143|30.138571|26.090879|138040000|\n",
      "|2010-01-07 00:00:00|    30.25|30.285715|29.864286|30.082857|26.042646|119282800|\n",
      "|2010-01-08 00:00:00|30.042856|30.285715|29.865715|30.282858|26.215786|111902700|\n",
      "|2010-01-11 00:00:00|     30.4|30.428572|29.778572|30.015715|25.984528|115557400|\n",
      "|2010-01-12 00:00:00|29.884285|29.967142|29.488571|29.674286|25.688946|148614900|\n",
      "|2010-01-13 00:00:00|29.695715|30.132856|29.157143|30.092857|26.051304|151473000|\n",
      "|2010-01-14 00:00:00|30.015715|30.065714|29.860001|29.918571|25.900436|108223500|\n",
      "|2010-01-15 00:00:00|30.132856|30.228571|    29.41|29.418571|25.467583|148516900|\n",
      "|2010-01-19 00:00:00|29.761429|30.741428|29.605715|30.719999|26.594227|182501900|\n",
      "|2010-01-20 00:00:00|30.701429|30.792856|29.928572|30.247143| 26.18487|153038200|\n",
      "|2010-01-21 00:00:00|30.297142|30.472857|29.601429|29.724285|25.732233|152038600|\n",
      "|2010-01-22 00:00:00|29.540001|29.642857|28.165714|    28.25|24.455948|220441900|\n",
      "|2010-01-25 00:00:00|    28.93|29.242857|28.598572|    29.01|25.113882|266424900|\n",
      "|2010-01-26 00:00:00|29.421429|30.530001|28.940001|    29.42|25.468813|466777500|\n",
      "|2010-01-27 00:00:00|29.549999|30.082857|28.504286|29.697144|25.708735|430642100|\n",
      "|2010-01-28 00:00:00|29.275715|29.357143|28.385714|28.469999|24.646406|293375600|\n",
      "|2010-01-29 00:00:00|28.725714|28.885714|27.178572|27.437143| 23.75227|311488100|\n",
      "|2010-02-01 00:00:00|27.481428|     28.0|27.328571|27.818571|24.082464|187469100|\n",
      "+-------------------+---------+---------+---------+---------+---------+---------+\n",
      "only showing top 20 rows\n",
      "\n"
     ]
    }
   ],
   "source": [
    "df.show()"
   ]
  },
  {
   "cell_type": "code",
   "execution_count": 173,
   "id": "d3af9ed1-9ac7-4b12-a6f3-4e93dcf86772",
   "metadata": {},
   "outputs": [
    {
     "name": "stdout",
     "output_type": "stream",
     "text": [
      "root\n",
      " |-- Date: timestamp (nullable = true)\n",
      " |-- Open: double (nullable = true)\n",
      " |-- High: double (nullable = true)\n",
      " |-- Low: double (nullable = true)\n",
      " |-- Close: double (nullable = true)\n",
      " |-- Adj Close: double (nullable = true)\n",
      " |-- Volume: integer (nullable = true)\n",
      "\n"
     ]
    }
   ],
   "source": [
    "df.printSchema()"
   ]
  },
  {
   "cell_type": "code",
   "execution_count": 174,
   "id": "2eaf7c6e-1741-4c48-99d7-bc80843e2ef6",
   "metadata": {},
   "outputs": [
    {
     "data": {
      "text/plain": [
       "[Row(Date=datetime.datetime(2010, 1, 4, 0, 0), Open=30.49, High=30.642857, Low=30.34, Close=30.572857, Adj Close=26.466835, Volume=123432400),\n",
       " Row(Date=datetime.datetime(2010, 1, 5, 0, 0), Open=30.657143, High=30.798571, Low=30.464285, Close=30.625713, Adj Close=26.512596, Volume=150476200)]"
      ]
     },
     "execution_count": 174,
     "metadata": {},
     "output_type": "execute_result"
    }
   ],
   "source": [
    "df.head(2)"
   ]
  },
  {
   "cell_type": "code",
   "execution_count": 177,
   "id": "29ee8264-d919-4bac-99a0-86f58ec739e0",
   "metadata": {},
   "outputs": [
    {
     "name": "stdout",
     "output_type": "stream",
     "text": [
      "+---------+---------+\n",
      "|     Open|    Close|\n",
      "+---------+---------+\n",
      "|28.725714|27.437143|\n",
      "|27.481428|27.818571|\n",
      "|27.987143|    27.98|\n",
      "|28.104286|27.435715|\n",
      "|27.518572|27.922857|\n",
      "|27.955715|27.731428|\n",
      "|27.984285|27.874287|\n",
      "+---------+---------+\n",
      "\n"
     ]
    }
   ],
   "source": [
    "df.filter(\"Close < 28\").select([\"Open\",\"Close\"]).show()"
   ]
  },
  {
   "cell_type": "code",
   "execution_count": 178,
   "id": "1191e972-c9f0-4236-bcd2-ec7fe91394d2",
   "metadata": {},
   "outputs": [
    {
     "name": "stdout",
     "output_type": "stream",
     "text": [
      "+---------+---------+\n",
      "|     Open|    Close|\n",
      "+---------+---------+\n",
      "|29.884285|29.674286|\n",
      "|29.695715|30.092857|\n",
      "|30.015715|29.918571|\n",
      "|30.132856|29.418571|\n",
      "|29.761429|30.719999|\n",
      "|30.297142|29.724285|\n",
      "|29.540001|    28.25|\n",
      "|    28.93|    29.01|\n",
      "|29.421429|    29.42|\n",
      "|29.549999|29.697144|\n",
      "|29.275715|28.469999|\n",
      "|28.725714|27.437143|\n",
      "|27.481428|27.818571|\n",
      "|27.987143|    27.98|\n",
      "|27.881428|28.461428|\n",
      "|28.104286|27.435715|\n",
      "|27.518572|27.922857|\n",
      "|27.955715|27.731428|\n",
      "|28.059999|28.027143|\n",
      "|27.984285|27.874287|\n",
      "+---------+---------+\n",
      "only showing top 20 rows\n",
      "\n"
     ]
    }
   ],
   "source": [
    "df.where((df[\"Close\"] < 30) | (df[\"Open\"] < 30)).select([\"Open\",\"Close\"]).show()"
   ]
  },
  {
   "cell_type": "code",
   "execution_count": 179,
   "id": "bd262840-88d7-448f-a25d-5e073a9a2133",
   "metadata": {},
   "outputs": [
    {
     "name": "stdout",
     "output_type": "stream",
     "text": [
      "+---------+---------+\n",
      "|     Open|    Close|\n",
      "+---------+---------+\n",
      "|30.015715|29.918571|\n",
      "|30.132856|29.418571|\n",
      "|30.297142|29.724285|\n",
      "+---------+---------+\n",
      "\n"
     ]
    }
   ],
   "source": [
    "df.where((df[\"Close\"] < 30) & ~(df[\"Open\"] < 30)).select([\"Open\",\"Close\"]).show()"
   ]
  },
  {
   "cell_type": "code",
   "execution_count": 180,
   "id": "2961ae2f-0b66-43c0-b8af-2166be71629d",
   "metadata": {},
   "outputs": [],
   "source": [
    "result = df.where(df[\"Low\"] == 30.34).collect()"
   ]
  },
  {
   "cell_type": "code",
   "execution_count": 181,
   "id": "b724e22d-fb7d-4f4f-89a5-c31cac0e27d3",
   "metadata": {},
   "outputs": [
    {
     "data": {
      "text/plain": [
       "[Row(Date=datetime.datetime(2010, 1, 4, 0, 0), Open=30.49, High=30.642857, Low=30.34, Close=30.572857, Adj Close=26.466835, Volume=123432400)]"
      ]
     },
     "execution_count": 181,
     "metadata": {},
     "output_type": "execute_result"
    }
   ],
   "source": [
    "result"
   ]
  },
  {
   "cell_type": "code",
   "execution_count": 182,
   "id": "4789d4ab-cbef-4c0d-b467-70a7964e3511",
   "metadata": {},
   "outputs": [
    {
     "data": {
      "text/plain": [
       "Row(Date=datetime.datetime(2010, 1, 4, 0, 0), Open=30.49, High=30.642857, Low=30.34, Close=30.572857, Adj Close=26.466835, Volume=123432400)"
      ]
     },
     "execution_count": 182,
     "metadata": {},
     "output_type": "execute_result"
    }
   ],
   "source": [
    "result[0]"
   ]
  },
  {
   "cell_type": "code",
   "execution_count": 184,
   "id": "fea4785b-9e2a-4b1c-b3b5-d47231467a97",
   "metadata": {},
   "outputs": [
    {
     "data": {
      "text/plain": [
       "30.572857"
      ]
     },
     "execution_count": 184,
     "metadata": {},
     "output_type": "execute_result"
    }
   ],
   "source": [
    "result[0].asDict()['Close']"
   ]
  },
  {
   "cell_type": "code",
   "execution_count": 185,
   "id": "25c59607-6d40-4e3c-bd18-8c8e3e24cade",
   "metadata": {},
   "outputs": [],
   "source": [
    "df = spark.read.csv(\"sales.csv\", inferSchema = True, header=True)"
   ]
  },
  {
   "cell_type": "code",
   "execution_count": 186,
   "id": "a0bd517c-4816-4c21-814d-5692111a3bac",
   "metadata": {},
   "outputs": [
    {
     "name": "stdout",
     "output_type": "stream",
     "text": [
      "+-------+---------+-----+\n",
      "|company|empleoyee|sales|\n",
      "+-------+---------+-----+\n",
      "|   GOOG|     John|  200|\n",
      "|   GOOG|    Maria|  120|\n",
      "|   GOOG|     Josh|  340|\n",
      "|   MSFT|  Michael|  600|\n",
      "|   MSFT|   Andrew|  124|\n",
      "|   MSFT|    Peter|  243|\n",
      "|     FB|     Sara|  870|\n",
      "|     FB|    Dhrew|  350|\n",
      "|   APPL| Victoria|  250|\n",
      "|   APPL|    Oscar|  130|\n",
      "|   APPL|   George|  750|\n",
      "|   APPL|     Ivan|  350|\n",
      "+-------+---------+-----+\n",
      "\n"
     ]
    }
   ],
   "source": [
    "df.show()"
   ]
  },
  {
   "cell_type": "code",
   "execution_count": 187,
   "id": "ff4492f3-ac55-4b4d-accd-d520e4ad2cb2",
   "metadata": {},
   "outputs": [
    {
     "name": "stdout",
     "output_type": "stream",
     "text": [
      "root\n",
      " |-- company: string (nullable = true)\n",
      " |-- empleoyee: string (nullable = true)\n",
      " |-- sales: integer (nullable = true)\n",
      "\n"
     ]
    }
   ],
   "source": [
    "df.printSchema()"
   ]
  },
  {
   "cell_type": "code",
   "execution_count": 188,
   "id": "626fdb53-15d3-4459-8045-ddef4a552568",
   "metadata": {},
   "outputs": [
    {
     "name": "stdout",
     "output_type": "stream",
     "text": [
      "+-------+----------+\n",
      "|company|sum(sales)|\n",
      "+-------+----------+\n",
      "|   APPL|      1480|\n",
      "|   GOOG|       660|\n",
      "|     FB|      1220|\n",
      "|   MSFT|       967|\n",
      "+-------+----------+\n",
      "\n"
     ]
    }
   ],
   "source": [
    "df.groupBy(\"company\").sum().show()"
   ]
  },
  {
   "cell_type": "code",
   "execution_count": 189,
   "id": "5ebe7920-b928-4503-9da3-3638960898a3",
   "metadata": {},
   "outputs": [
    {
     "name": "stdout",
     "output_type": "stream",
     "text": [
      "+-------+-----------------+\n",
      "|company|       avg(sales)|\n",
      "+-------+-----------------+\n",
      "|   APPL|            370.0|\n",
      "|   GOOG|            220.0|\n",
      "|     FB|            610.0|\n",
      "|   MSFT|322.3333333333333|\n",
      "+-------+-----------------+\n",
      "\n"
     ]
    }
   ],
   "source": [
    "df.groupBy(\"company\").mean().show()"
   ]
  },
  {
   "cell_type": "code",
   "execution_count": 190,
   "id": "2de7c307-592f-40f0-9103-459eaa33a266",
   "metadata": {},
   "outputs": [
    {
     "name": "stdout",
     "output_type": "stream",
     "text": [
      "+-------+----------+\n",
      "|company|max(sales)|\n",
      "+-------+----------+\n",
      "|   APPL|       750|\n",
      "|   GOOG|       340|\n",
      "|     FB|       870|\n",
      "|   MSFT|       600|\n",
      "+-------+----------+\n",
      "\n"
     ]
    }
   ],
   "source": [
    "df.groupBy(\"company\").max().show()"
   ]
  },
  {
   "cell_type": "code",
   "execution_count": 191,
   "id": "9889dc6b-bb1e-40cc-9ff0-4743fef1ee78",
   "metadata": {},
   "outputs": [
    {
     "name": "stdout",
     "output_type": "stream",
     "text": [
      "+-------+-----+\n",
      "|company|count|\n",
      "+-------+-----+\n",
      "|   APPL|    4|\n",
      "|   GOOG|    3|\n",
      "|     FB|    2|\n",
      "|   MSFT|    3|\n",
      "+-------+-----+\n",
      "\n"
     ]
    }
   ],
   "source": [
    "df.groupBy(\"company\").count().show()"
   ]
  },
  {
   "cell_type": "code",
   "execution_count": 192,
   "id": "71d2c5ea-67ce-4129-af0f-38e85a481fad",
   "metadata": {},
   "outputs": [
    {
     "name": "stdout",
     "output_type": "stream",
     "text": [
      "+----------+\n",
      "|sum(sales)|\n",
      "+----------+\n",
      "|      4327|\n",
      "+----------+\n",
      "\n"
     ]
    }
   ],
   "source": [
    "df.agg({\"sales\":\"sum\"}).show()"
   ]
  },
  {
   "cell_type": "code",
   "execution_count": 193,
   "id": "45cc240d-72ea-4f94-8361-8cb12c2f245c",
   "metadata": {},
   "outputs": [],
   "source": [
    "group = df.groupBy(\"company\")"
   ]
  },
  {
   "cell_type": "code",
   "execution_count": 195,
   "id": "ff8bc0c4-7000-4715-83d9-70fb0e5d07f5",
   "metadata": {},
   "outputs": [
    {
     "name": "stdout",
     "output_type": "stream",
     "text": [
      "+-------+----------+\n",
      "|company|sum(sales)|\n",
      "+-------+----------+\n",
      "|   APPL|      1480|\n",
      "|   GOOG|       660|\n",
      "|     FB|      1220|\n",
      "|   MSFT|       967|\n",
      "+-------+----------+\n",
      "\n"
     ]
    }
   ],
   "source": [
    "group.agg({\"sales\":\"sum\"}).show()"
   ]
  },
  {
   "cell_type": "code",
   "execution_count": 196,
   "id": "7f300643-d52c-4fb5-9668-aee168b27953",
   "metadata": {},
   "outputs": [],
   "source": [
    "from pyspark.sql.functions import countDistinct, avg, stddev, format_number"
   ]
  },
  {
   "cell_type": "code",
   "execution_count": 197,
   "id": "4a9be292-0ac7-475b-bc39-550e3c6d6cd3",
   "metadata": {},
   "outputs": [
    {
     "name": "stdout",
     "output_type": "stream",
     "text": [
      "+---------------------+\n",
      "|count(DISTINCT sales)|\n",
      "+---------------------+\n",
      "|                   11|\n",
      "+---------------------+\n",
      "\n"
     ]
    }
   ],
   "source": [
    "df.select(countDistinct(\"sales\")).show()"
   ]
  },
  {
   "cell_type": "code",
   "execution_count": 198,
   "id": "ac0f7f58-e5d6-4cfa-ae43-611733d5e5df",
   "metadata": {},
   "outputs": [
    {
     "name": "stdout",
     "output_type": "stream",
     "text": [
      "+---------------+\n",
      "|distinct values|\n",
      "+---------------+\n",
      "|             11|\n",
      "+---------------+\n",
      "\n"
     ]
    }
   ],
   "source": [
    "df.select(countDistinct(\"sales\").alias(\"distinct values\")).show()"
   ]
  },
  {
   "cell_type": "code",
   "execution_count": 199,
   "id": "ff4f7f3c-5a50-4237-b77d-f4272a47413b",
   "metadata": {},
   "outputs": [
    {
     "name": "stdout",
     "output_type": "stream",
     "text": [
      "+------------------+\n",
      "|      stddev sales|\n",
      "+------------------+\n",
      "|250.08742410799007|\n",
      "+------------------+\n",
      "\n"
     ]
    }
   ],
   "source": [
    "df.select(stddev(\"sales\").alias(\"stddev sales\")).show()"
   ]
  },
  {
   "cell_type": "code",
   "execution_count": 201,
   "id": "1a08a61f-0de8-4744-b318-e12a2bc3992a",
   "metadata": {},
   "outputs": [],
   "source": [
    "sales_stddev = df.select(stddev(\"sales\").alias(\"stddev sales\"))"
   ]
  },
  {
   "cell_type": "code",
   "execution_count": 202,
   "id": "cb5dbfc8-1aa0-40e0-9ccf-45605a7f4b45",
   "metadata": {},
   "outputs": [
    {
     "name": "stdout",
     "output_type": "stream",
     "text": [
      "+----------------------+\n",
      "|stddev sales formatted|\n",
      "+----------------------+\n",
      "|                250.09|\n",
      "+----------------------+\n",
      "\n"
     ]
    }
   ],
   "source": [
    "sales_stddev.select(format_number('stddev sales', 2).alias(\"stddev sales formatted\")).show() "
   ]
  },
  {
   "cell_type": "code",
   "execution_count": 203,
   "id": "2b67439e-47fb-4ba2-89c7-9d462e9fc6a1",
   "metadata": {},
   "outputs": [
    {
     "name": "stdout",
     "output_type": "stream",
     "text": [
      "+-------+---------+-----+\n",
      "|company|empleoyee|sales|\n",
      "+-------+---------+-----+\n",
      "|   GOOG|    Maria|  120|\n",
      "|   MSFT|   Andrew|  124|\n",
      "|   APPL|    Oscar|  130|\n",
      "|   GOOG|     John|  200|\n",
      "|   MSFT|    Peter|  243|\n",
      "|   APPL| Victoria|  250|\n",
      "|   GOOG|     Josh|  340|\n",
      "|     FB|    Dhrew|  350|\n",
      "|   APPL|     Ivan|  350|\n",
      "|   MSFT|  Michael|  600|\n",
      "|   APPL|   George|  750|\n",
      "|     FB|     Sara|  870|\n",
      "+-------+---------+-----+\n",
      "\n"
     ]
    }
   ],
   "source": [
    "df.orderBy(\"sales\").show()"
   ]
  },
  {
   "cell_type": "code",
   "execution_count": 204,
   "id": "a4492f7e-c4df-457e-b10a-3c73ccbcf147",
   "metadata": {},
   "outputs": [
    {
     "name": "stdout",
     "output_type": "stream",
     "text": [
      "+-------+---------+-----+\n",
      "|company|empleoyee|sales|\n",
      "+-------+---------+-----+\n",
      "|     FB|     Sara|  870|\n",
      "|   APPL|   George|  750|\n",
      "|   MSFT|  Michael|  600|\n",
      "|     FB|    Dhrew|  350|\n",
      "|   APPL|     Ivan|  350|\n",
      "|   GOOG|     Josh|  340|\n",
      "|   APPL| Victoria|  250|\n",
      "|   MSFT|    Peter|  243|\n",
      "|   GOOG|     John|  200|\n",
      "|   APPL|    Oscar|  130|\n",
      "|   MSFT|   Andrew|  124|\n",
      "|   GOOG|    Maria|  120|\n",
      "+-------+---------+-----+\n",
      "\n"
     ]
    }
   ],
   "source": [
    "df.orderBy(df[\"sales\"].desc()).show()"
   ]
  },
  {
   "cell_type": "code",
   "execution_count": 206,
   "id": "559fd111-c9f0-4824-a19d-5bad48775602",
   "metadata": {},
   "outputs": [],
   "source": [
    "df = spark.read.csv(\"nullvalues.csv\", inferSchema = True, header=True) "
   ]
  },
  {
   "cell_type": "code",
   "execution_count": 207,
   "id": "383d13bc-83cc-4343-816d-90665dc45a78",
   "metadata": {},
   "outputs": [
    {
     "name": "stdout",
     "output_type": "stream",
     "text": [
      "root\n",
      " |-- Id: string (nullable = true)\n",
      " |-- name: string (nullable = true)\n",
      " |-- sales: integer (nullable = true)\n",
      " |-- customer: integer (nullable = true)\n",
      "\n"
     ]
    }
   ],
   "source": [
    "df.printSchema()"
   ]
  },
  {
   "cell_type": "code",
   "execution_count": 208,
   "id": "057aa2a6-8a1e-4745-8fac-01b09022c985",
   "metadata": {},
   "outputs": [
    {
     "name": "stdout",
     "output_type": "stream",
     "text": [
      "+----+-----+-----+--------+\n",
      "|  Id| name|sales|customer|\n",
      "+----+-----+-----+--------+\n",
      "|emp1| John| null|       3|\n",
      "|emp2| null| null|    null|\n",
      "|emp3| null|  345|    null|\n",
      "|emp4|Cindy|  456|       4|\n",
      "+----+-----+-----+--------+\n",
      "\n"
     ]
    }
   ],
   "source": [
    "df.show()"
   ]
  },
  {
   "cell_type": "code",
   "execution_count": 209,
   "id": "49a95848-1a23-49a8-a842-6326f747720b",
   "metadata": {},
   "outputs": [
    {
     "name": "stdout",
     "output_type": "stream",
     "text": [
      "+----+-----+-----+--------+\n",
      "|  Id| name|sales|customer|\n",
      "+----+-----+-----+--------+\n",
      "|emp4|Cindy|  456|       4|\n",
      "+----+-----+-----+--------+\n",
      "\n"
     ]
    }
   ],
   "source": [
    "df.na.drop().show()"
   ]
  },
  {
   "cell_type": "code",
   "execution_count": 216,
   "id": "57c016a2-1334-4b7b-bfc0-88b89f4f1680",
   "metadata": {},
   "outputs": [
    {
     "name": "stdout",
     "output_type": "stream",
     "text": [
      "+----+-----+-----+--------+\n",
      "|  Id| name|sales|customer|\n",
      "+----+-----+-----+--------+\n",
      "|emp1| John| null|       3|\n",
      "|emp2| null| null|    null|\n",
      "|emp3| null|  345|    null|\n",
      "|emp4|Cindy|  456|       4|\n",
      "+----+-----+-----+--------+\n",
      "\n"
     ]
    }
   ],
   "source": [
    "df.na.drop(thresh=1).show()"
   ]
  },
  {
   "cell_type": "code",
   "execution_count": 217,
   "id": "5cfda6f1-7a1a-4f1c-b525-a970e14c78f1",
   "metadata": {},
   "outputs": [
    {
     "name": "stdout",
     "output_type": "stream",
     "text": [
      "+----+-----+-----+--------+\n",
      "|  Id| name|sales|customer|\n",
      "+----+-----+-----+--------+\n",
      "|emp4|Cindy|  456|       4|\n",
      "+----+-----+-----+--------+\n",
      "\n"
     ]
    }
   ],
   "source": [
    "df.na.drop(how = 'any').show()"
   ]
  },
  {
   "cell_type": "code",
   "execution_count": 218,
   "id": "436f390a-ef9a-452f-abc4-f866cbb86e30",
   "metadata": {},
   "outputs": [
    {
     "name": "stdout",
     "output_type": "stream",
     "text": [
      "+----+-----+-----+--------+\n",
      "|  Id| name|sales|customer|\n",
      "+----+-----+-----+--------+\n",
      "|emp1| John| null|       3|\n",
      "|emp2| null| null|    null|\n",
      "|emp3| null|  345|    null|\n",
      "|emp4|Cindy|  456|       4|\n",
      "+----+-----+-----+--------+\n",
      "\n"
     ]
    }
   ],
   "source": [
    "df.na.drop(how = 'all').show()"
   ]
  },
  {
   "cell_type": "code",
   "execution_count": 219,
   "id": "b365744c-2b1d-4ce4-a17f-aa62f09b5f29",
   "metadata": {},
   "outputs": [
    {
     "name": "stdout",
     "output_type": "stream",
     "text": [
      "+----+-----+-----+--------+\n",
      "|  Id| name|sales|customer|\n",
      "+----+-----+-----+--------+\n",
      "|emp3| null|  345|    null|\n",
      "|emp4|Cindy|  456|       4|\n",
      "+----+-----+-----+--------+\n",
      "\n"
     ]
    }
   ],
   "source": [
    "df.na.drop(subset = 'sales').show()"
   ]
  },
  {
   "cell_type": "code",
   "execution_count": 220,
   "id": "73df8ac3-5040-4618-a87a-3237ade73b57",
   "metadata": {},
   "outputs": [
    {
     "name": "stdout",
     "output_type": "stream",
     "text": [
      "+----+-----+-----+--------+\n",
      "|  Id| name|sales|customer|\n",
      "+----+-----+-----+--------+\n",
      "|emp1| John| null|       3|\n",
      "|emp4|Cindy|  456|       4|\n",
      "+----+-----+-----+--------+\n",
      "\n"
     ]
    }
   ],
   "source": [
    "df.na.drop(subset = 'customer').show()"
   ]
  },
  {
   "cell_type": "code",
   "execution_count": 221,
   "id": "e94a3f1a-9b3f-494b-98f0-5ff516d2680f",
   "metadata": {},
   "outputs": [
    {
     "name": "stdout",
     "output_type": "stream",
     "text": [
      "+----+-----+-----+--------+\n",
      "|  Id| name|sales|customer|\n",
      "+----+-----+-----+--------+\n",
      "|emp1| John|    0|       3|\n",
      "|emp2| null|    0|       0|\n",
      "|emp3| null|  345|       0|\n",
      "|emp4|Cindy|  456|       4|\n",
      "+----+-----+-----+--------+\n",
      "\n"
     ]
    }
   ],
   "source": [
    "df.na.fill(0).show()"
   ]
  },
  {
   "cell_type": "code",
   "execution_count": 222,
   "id": "fc8cc597-6cad-4320-808a-33dda162b51e",
   "metadata": {},
   "outputs": [
    {
     "name": "stdout",
     "output_type": "stream",
     "text": [
      "+----+-----+-----+--------+\n",
      "|  Id| name|sales|customer|\n",
      "+----+-----+-----+--------+\n",
      "|emp1| John|    0|       3|\n",
      "|emp2| null|    0|    null|\n",
      "|emp3| null|  345|    null|\n",
      "|emp4|Cindy|  456|       4|\n",
      "+----+-----+-----+--------+\n",
      "\n"
     ]
    }
   ],
   "source": [
    "df.na.fill(0, subset=[\"sales\"]).show()"
   ]
  },
  {
   "cell_type": "code",
   "execution_count": null,
   "id": "3960abac-a8fe-4df6-a763-aaf6e3e9194e",
   "metadata": {},
   "outputs": [],
   "source": [
    "df.na.fill(0, subset=[\"sales\"]).show()"
   ]
  },
  {
   "cell_type": "code",
   "execution_count": 223,
   "id": "8df9ff2d-8198-4fb3-8a06-ca9a19b2e416",
   "metadata": {},
   "outputs": [],
   "source": [
    "from pyspark.sql.functions import mean"
   ]
  },
  {
   "cell_type": "code",
   "execution_count": 224,
   "id": "feee0764-806d-4925-9cec-cecac7b4f29a",
   "metadata": {},
   "outputs": [],
   "source": [
    "media = df.select(mean(df[\"sales\"])).collect()"
   ]
  },
  {
   "cell_type": "code",
   "execution_count": 227,
   "id": "0be5c357-0f00-4b67-874c-ac827eeb37e1",
   "metadata": {},
   "outputs": [
    {
     "data": {
      "text/plain": [
       "400.5"
      ]
     },
     "execution_count": 227,
     "metadata": {},
     "output_type": "execute_result"
    }
   ],
   "source": [
    "media[0][0]"
   ]
  },
  {
   "cell_type": "code",
   "execution_count": 228,
   "id": "4b527eeb-557c-4076-874b-fb0296c52659",
   "metadata": {},
   "outputs": [
    {
     "name": "stdout",
     "output_type": "stream",
     "text": [
      "+----+-----+-----+--------+\n",
      "|  Id| name|sales|customer|\n",
      "+----+-----+-----+--------+\n",
      "|emp1| John|  400|       3|\n",
      "|emp2| null|  400|    null|\n",
      "|emp3| null|  345|    null|\n",
      "|emp4|Cindy|  456|       4|\n",
      "+----+-----+-----+--------+\n",
      "\n"
     ]
    }
   ],
   "source": [
    "df.na.fill(media[0][0], [\"sales\"]).show()"
   ]
  },
  {
   "cell_type": "code",
   "execution_count": 262,
   "id": "25a10bb4-8ed6-45e4-87f0-253babd94adf",
   "metadata": {},
   "outputs": [],
   "source": [
    "from pyspark.sql.functions import dayofmonth, dayofyear, month, year, weekofyear, format_number, date_format, concat_ws"
   ]
  },
  {
   "cell_type": "code",
   "execution_count": 231,
   "id": "b2517db3-61a3-4839-9488-93a4618ead64",
   "metadata": {},
   "outputs": [],
   "source": [
    "df = spark.read.csv(\"apl.csv\", inferSchema= True, header = True)"
   ]
  },
  {
   "cell_type": "code",
   "execution_count": 232,
   "id": "faf8b615-650e-499a-a531-f7059a8c927a",
   "metadata": {},
   "outputs": [
    {
     "name": "stdout",
     "output_type": "stream",
     "text": [
      "+-------------------+---------+---------+---------+---------+---------+---------+\n",
      "|               Date|     Open|     High|      Low|    Close|Adj Close|   Volume|\n",
      "+-------------------+---------+---------+---------+---------+---------+---------+\n",
      "|2010-01-04 00:00:00|    30.49|30.642857|    30.34|30.572857|26.466835|123432400|\n",
      "|2010-01-05 00:00:00|30.657143|30.798571|30.464285|30.625713|26.512596|150476200|\n",
      "|2010-01-06 00:00:00|30.625713|30.747143|30.107143|30.138571|26.090879|138040000|\n",
      "|2010-01-07 00:00:00|    30.25|30.285715|29.864286|30.082857|26.042646|119282800|\n",
      "|2010-01-08 00:00:00|30.042856|30.285715|29.865715|30.282858|26.215786|111902700|\n",
      "|2010-01-11 00:00:00|     30.4|30.428572|29.778572|30.015715|25.984528|115557400|\n",
      "|2010-01-12 00:00:00|29.884285|29.967142|29.488571|29.674286|25.688946|148614900|\n",
      "|2010-01-13 00:00:00|29.695715|30.132856|29.157143|30.092857|26.051304|151473000|\n",
      "|2010-01-14 00:00:00|30.015715|30.065714|29.860001|29.918571|25.900436|108223500|\n",
      "|2010-01-15 00:00:00|30.132856|30.228571|    29.41|29.418571|25.467583|148516900|\n",
      "|2010-01-19 00:00:00|29.761429|30.741428|29.605715|30.719999|26.594227|182501900|\n",
      "|2010-01-20 00:00:00|30.701429|30.792856|29.928572|30.247143| 26.18487|153038200|\n",
      "|2010-01-21 00:00:00|30.297142|30.472857|29.601429|29.724285|25.732233|152038600|\n",
      "|2010-01-22 00:00:00|29.540001|29.642857|28.165714|    28.25|24.455948|220441900|\n",
      "|2010-01-25 00:00:00|    28.93|29.242857|28.598572|    29.01|25.113882|266424900|\n",
      "|2010-01-26 00:00:00|29.421429|30.530001|28.940001|    29.42|25.468813|466777500|\n",
      "|2010-01-27 00:00:00|29.549999|30.082857|28.504286|29.697144|25.708735|430642100|\n",
      "|2010-01-28 00:00:00|29.275715|29.357143|28.385714|28.469999|24.646406|293375600|\n",
      "|2010-01-29 00:00:00|28.725714|28.885714|27.178572|27.437143| 23.75227|311488100|\n",
      "|2010-02-01 00:00:00|27.481428|     28.0|27.328571|27.818571|24.082464|187469100|\n",
      "+-------------------+---------+---------+---------+---------+---------+---------+\n",
      "only showing top 20 rows\n",
      "\n"
     ]
    }
   ],
   "source": [
    "df.show()"
   ]
  },
  {
   "cell_type": "code",
   "execution_count": 234,
   "id": "914da7fb-01fc-4b62-a30e-9bd097494fcf",
   "metadata": {},
   "outputs": [
    {
     "name": "stdout",
     "output_type": "stream",
     "text": [
      "+----------------+\n",
      "|dayofmonth(Date)|\n",
      "+----------------+\n",
      "|               4|\n",
      "|               5|\n",
      "|               6|\n",
      "|               7|\n",
      "|               8|\n",
      "|              11|\n",
      "|              12|\n",
      "|              13|\n",
      "|              14|\n",
      "|              15|\n",
      "|              19|\n",
      "|              20|\n",
      "|              21|\n",
      "|              22|\n",
      "|              25|\n",
      "|              26|\n",
      "|              27|\n",
      "|              28|\n",
      "|              29|\n",
      "|               1|\n",
      "+----------------+\n",
      "only showing top 20 rows\n",
      "\n"
     ]
    }
   ],
   "source": [
    "df.select(dayofmonth(df[\"Date\"])).show()"
   ]
  },
  {
   "cell_type": "code",
   "execution_count": 235,
   "id": "0b5eb76d-4f13-4647-b2b0-688d462439ee",
   "metadata": {},
   "outputs": [
    {
     "name": "stdout",
     "output_type": "stream",
     "text": [
      "+---------------+\n",
      "|dayofyear(Date)|\n",
      "+---------------+\n",
      "|              4|\n",
      "|              5|\n",
      "|              6|\n",
      "|              7|\n",
      "|              8|\n",
      "|             11|\n",
      "|             12|\n",
      "|             13|\n",
      "|             14|\n",
      "|             15|\n",
      "|             19|\n",
      "|             20|\n",
      "|             21|\n",
      "|             22|\n",
      "|             25|\n",
      "|             26|\n",
      "|             27|\n",
      "|             28|\n",
      "|             29|\n",
      "|             32|\n",
      "+---------------+\n",
      "only showing top 20 rows\n",
      "\n"
     ]
    }
   ],
   "source": [
    "df.select(dayofyear(df[\"Date\"])).show()"
   ]
  },
  {
   "cell_type": "code",
   "execution_count": 236,
   "id": "1ce0a4b1-8be1-47d3-949d-9286fb69b674",
   "metadata": {},
   "outputs": [],
   "source": [
    "new_df = df.withColumn(\"Year\", (year(df[\"Date\"])))"
   ]
  },
  {
   "cell_type": "code",
   "execution_count": 237,
   "id": "b8c87ff3-1a28-4eda-be85-f5ee3eb0d383",
   "metadata": {},
   "outputs": [
    {
     "name": "stdout",
     "output_type": "stream",
     "text": [
      "+-------------------+---------+---------+---------+---------+---------+---------+----+\n",
      "|               Date|     Open|     High|      Low|    Close|Adj Close|   Volume|Year|\n",
      "+-------------------+---------+---------+---------+---------+---------+---------+----+\n",
      "|2010-01-04 00:00:00|    30.49|30.642857|    30.34|30.572857|26.466835|123432400|2010|\n",
      "|2010-01-05 00:00:00|30.657143|30.798571|30.464285|30.625713|26.512596|150476200|2010|\n",
      "|2010-01-06 00:00:00|30.625713|30.747143|30.107143|30.138571|26.090879|138040000|2010|\n",
      "|2010-01-07 00:00:00|    30.25|30.285715|29.864286|30.082857|26.042646|119282800|2010|\n",
      "|2010-01-08 00:00:00|30.042856|30.285715|29.865715|30.282858|26.215786|111902700|2010|\n",
      "|2010-01-11 00:00:00|     30.4|30.428572|29.778572|30.015715|25.984528|115557400|2010|\n",
      "|2010-01-12 00:00:00|29.884285|29.967142|29.488571|29.674286|25.688946|148614900|2010|\n",
      "|2010-01-13 00:00:00|29.695715|30.132856|29.157143|30.092857|26.051304|151473000|2010|\n",
      "|2010-01-14 00:00:00|30.015715|30.065714|29.860001|29.918571|25.900436|108223500|2010|\n",
      "|2010-01-15 00:00:00|30.132856|30.228571|    29.41|29.418571|25.467583|148516900|2010|\n",
      "|2010-01-19 00:00:00|29.761429|30.741428|29.605715|30.719999|26.594227|182501900|2010|\n",
      "|2010-01-20 00:00:00|30.701429|30.792856|29.928572|30.247143| 26.18487|153038200|2010|\n",
      "|2010-01-21 00:00:00|30.297142|30.472857|29.601429|29.724285|25.732233|152038600|2010|\n",
      "|2010-01-22 00:00:00|29.540001|29.642857|28.165714|    28.25|24.455948|220441900|2010|\n",
      "|2010-01-25 00:00:00|    28.93|29.242857|28.598572|    29.01|25.113882|266424900|2010|\n",
      "|2010-01-26 00:00:00|29.421429|30.530001|28.940001|    29.42|25.468813|466777500|2010|\n",
      "|2010-01-27 00:00:00|29.549999|30.082857|28.504286|29.697144|25.708735|430642100|2010|\n",
      "|2010-01-28 00:00:00|29.275715|29.357143|28.385714|28.469999|24.646406|293375600|2010|\n",
      "|2010-01-29 00:00:00|28.725714|28.885714|27.178572|27.437143| 23.75227|311488100|2010|\n",
      "|2010-02-01 00:00:00|27.481428|     28.0|27.328571|27.818571|24.082464|187469100|2010|\n",
      "+-------------------+---------+---------+---------+---------+---------+---------+----+\n",
      "only showing top 20 rows\n",
      "\n"
     ]
    }
   ],
   "source": [
    "new_df.show()"
   ]
  },
  {
   "cell_type": "code",
   "execution_count": 238,
   "id": "ee72dd1b-1941-4380-a140-154918d5615e",
   "metadata": {},
   "outputs": [],
   "source": [
    "result = new_df.groupBy(\"Year\").mean()"
   ]
  },
  {
   "cell_type": "code",
   "execution_count": 239,
   "id": "6199f421-70d3-4450-b128-e16a43fbd6d2",
   "metadata": {},
   "outputs": [
    {
     "name": "stdout",
     "output_type": "stream",
     "text": [
      "+----+------------------+------------------+------------------+------------------+------------------+--------------------+---------+\n",
      "|Year|         avg(Open)|         avg(High)|          avg(Low)|        avg(Close)|    avg(Adj Close)|         avg(Volume)|avg(Year)|\n",
      "+----+------------------+------------------+------------------+------------------+------------------+--------------------+---------+\n",
      "|2018|189.11143456573691|190.99410358167344|187.18350615936254| 189.0534267649403|184.07218519123506| 3.402006454183267E7|   2018.0|\n",
      "|2015|120.17575393253965|121.24452385714291| 118.8630954325397|120.03999980555547|110.69666290873012|5.1849404365079366E7|   2015.0|\n",
      "|2013| 67.58973367460315| 68.23413245238099| 66.89244326190476| 67.51926860317461| 59.77199219047618|          1.016087E8|   2013.0|\n",
      "|2014| 92.21983011507933| 93.01266438888888| 91.47553844047621| 92.26465432539683| 83.65277066269844| 6.315273055555555E7|   2014.0|\n",
      "|2019|207.86908675793657|  209.831706626984|206.27162703174605| 208.2559521944445|205.96882508333331|2.8030962698412698E7|   2019.0|\n",
      "|2020|300.64314603225813|305.64467702419347| 296.8662097983871| 301.6202412096774| 300.9173236693549| 4.315820564516129E7|   2020.0|\n",
      "|2012| 82.37896010000001| 83.11791439999998| 81.41730862799999| 82.29281706400006| 71.41354061599999|       1.319642044E8|   2012.0|\n",
      "|2016|104.50777772619044| 105.4271825436508|103.69027771825397|104.60400786904763| 98.46212469841271|3.8422530952380955E7|   2016.0|\n",
      "|2010| 37.13680271825399|  37.4812584047619| 36.69251683333333|37.120351420634925| 32.13499141269841|1.4982631666666666E8|   2010.0|\n",
      "|2011|52.008775376984104| 52.48908146825399| 51.47109980555553|52.000617904761896| 45.01679959920637|1.2307474166666667E8|   2011.0|\n",
      "|2017|150.44490045816727|151.40605588844622|149.48764974501998|150.55107548605574|144.38417413147414|2.7134567729083665E7|   2017.0|\n",
      "+----+------------------+------------------+------------------+------------------+------------------+--------------------+---------+\n",
      "\n"
     ]
    }
   ],
   "source": [
    "result.show()"
   ]
  },
  {
   "cell_type": "code",
   "execution_count": 244,
   "id": "56362d47-762b-48f7-a48c-89c1f577b55e",
   "metadata": {},
   "outputs": [],
   "source": [
    "result = new_df.groupBy(\"Year\").mean().select([\"Year\", \"avg(Open)\", \"avg(Close)\"])"
   ]
  },
  {
   "cell_type": "code",
   "execution_count": 245,
   "id": "16f2adec-74e0-4abf-8048-046b8a37b96d",
   "metadata": {},
   "outputs": [
    {
     "name": "stdout",
     "output_type": "stream",
     "text": [
      "+----+------------------+------------------+\n",
      "|Year|         avg(Open)|        avg(Close)|\n",
      "+----+------------------+------------------+\n",
      "|2018|189.11143456573691| 189.0534267649403|\n",
      "|2015|120.17575393253965|120.03999980555547|\n",
      "|2013| 67.58973367460315| 67.51926860317461|\n",
      "|2014| 92.21983011507933| 92.26465432539683|\n",
      "|2019|207.86908675793657| 208.2559521944445|\n",
      "|2020|300.64314603225813| 301.6202412096774|\n",
      "|2012| 82.37896010000001| 82.29281706400006|\n",
      "|2016|104.50777772619044|104.60400786904763|\n",
      "|2010| 37.13680271825399|37.120351420634925|\n",
      "|2011|52.008775376984104|52.000617904761896|\n",
      "|2017|150.44490045816727|150.55107548605574|\n",
      "+----+------------------+------------------+\n",
      "\n"
     ]
    }
   ],
   "source": [
    "result.show()"
   ]
  },
  {
   "cell_type": "code",
   "execution_count": 246,
   "id": "37f4d053-9b53-42a4-b9b4-85e75b4c0a39",
   "metadata": {},
   "outputs": [
    {
     "name": "stdout",
     "output_type": "stream",
     "text": [
      "+----+--------+---------+\n",
      "|Year|Avg Open|Avg Close|\n",
      "+----+--------+---------+\n",
      "|2010| 37.1368|  37.1204|\n",
      "|2011| 52.0088|  52.0006|\n",
      "|2012| 82.3790|  82.2928|\n",
      "|2013| 67.5897|  67.5193|\n",
      "|2014| 92.2198|  92.2647|\n",
      "|2015|120.1758| 120.0400|\n",
      "|2016|104.5078| 104.6040|\n",
      "|2017|150.4449| 150.5511|\n",
      "|2018|189.1114| 189.0534|\n",
      "|2019|207.8691| 208.2560|\n",
      "|2020|300.6431| 301.6202|\n",
      "+----+--------+---------+\n",
      "\n"
     ]
    }
   ],
   "source": [
    "result.select('Year', format_number(\"avg(Open)\", 4).alias(\"Avg Open\"), format_number(\"avg(Close)\", 4).alias(\"Avg Close\")).orderBy(result[\"Year\"]).show()"
   ]
  },
  {
   "cell_type": "code",
   "execution_count": 254,
   "id": "4faa21be-cd2c-4289-96e1-e2328bb49790",
   "metadata": {},
   "outputs": [],
   "source": [
    "columns = df.columns\n",
    "prefix = \"new_\""
   ]
  },
  {
   "cell_type": "code",
   "execution_count": 256,
   "id": "2ba3ea59-184e-4058-8053-b528c6fd0f9d",
   "metadata": {},
   "outputs": [
    {
     "data": {
      "text/plain": [
       "['new_Date',\n",
       " 'new_Open',\n",
       " 'new_High',\n",
       " 'new_Low',\n",
       " 'new_Close',\n",
       " 'new_Adj Close',\n",
       " 'new_Volume']"
      ]
     },
     "execution_count": 256,
     "metadata": {},
     "output_type": "execute_result"
    }
   ],
   "source": [
    "[prefix + c for c in columns]"
   ]
  },
  {
   "cell_type": "code",
   "execution_count": 264,
   "id": "fcbe4b61-50aa-4898-979a-1b55080ee0cc",
   "metadata": {},
   "outputs": [
    {
     "name": "stdout",
     "output_type": "stream",
     "text": [
      "+-------------------+---------+---------+---------+---------+-------------+----------+\n",
      "|           new_Date| new_Open| new_High|  new_Low|new_Close|new_Adj Close|new_Volume|\n",
      "+-------------------+---------+---------+---------+---------+-------------+----------+\n",
      "|2010-01-04 00:00:00|    30.49|30.642857|    30.34|30.572857|    26.466835| 123432400|\n",
      "|2010-01-05 00:00:00|30.657143|30.798571|30.464285|30.625713|    26.512596| 150476200|\n",
      "|2010-01-06 00:00:00|30.625713|30.747143|30.107143|30.138571|    26.090879| 138040000|\n",
      "|2010-01-07 00:00:00|    30.25|30.285715|29.864286|30.082857|    26.042646| 119282800|\n",
      "|2010-01-08 00:00:00|30.042856|30.285715|29.865715|30.282858|    26.215786| 111902700|\n",
      "|2010-01-11 00:00:00|     30.4|30.428572|29.778572|30.015715|    25.984528| 115557400|\n",
      "|2010-01-12 00:00:00|29.884285|29.967142|29.488571|29.674286|    25.688946| 148614900|\n",
      "|2010-01-13 00:00:00|29.695715|30.132856|29.157143|30.092857|    26.051304| 151473000|\n",
      "|2010-01-14 00:00:00|30.015715|30.065714|29.860001|29.918571|    25.900436| 108223500|\n",
      "|2010-01-15 00:00:00|30.132856|30.228571|    29.41|29.418571|    25.467583| 148516900|\n",
      "|2010-01-19 00:00:00|29.761429|30.741428|29.605715|30.719999|    26.594227| 182501900|\n",
      "|2010-01-20 00:00:00|30.701429|30.792856|29.928572|30.247143|     26.18487| 153038200|\n",
      "|2010-01-21 00:00:00|30.297142|30.472857|29.601429|29.724285|    25.732233| 152038600|\n",
      "|2010-01-22 00:00:00|29.540001|29.642857|28.165714|    28.25|    24.455948| 220441900|\n",
      "|2010-01-25 00:00:00|    28.93|29.242857|28.598572|    29.01|    25.113882| 266424900|\n",
      "|2010-01-26 00:00:00|29.421429|30.530001|28.940001|    29.42|    25.468813| 466777500|\n",
      "|2010-01-27 00:00:00|29.549999|30.082857|28.504286|29.697144|    25.708735| 430642100|\n",
      "|2010-01-28 00:00:00|29.275715|29.357143|28.385714|28.469999|    24.646406| 293375600|\n",
      "|2010-01-29 00:00:00|28.725714|28.885714|27.178572|27.437143|     23.75227| 311488100|\n",
      "|2010-02-01 00:00:00|27.481428|     28.0|27.328571|27.818571|    24.082464| 187469100|\n",
      "+-------------------+---------+---------+---------+---------+-------------+----------+\n",
      "only showing top 20 rows\n",
      "\n"
     ]
    }
   ],
   "source": [
    "df.select( [ concat_ws(\"\", c).alias(prefix + c) for c in columns]  ).show()"
   ]
  },
  {
   "cell_type": "code",
   "execution_count": null,
   "id": "8b768bb5-a8d4-4d5c-820c-a7639f1b92dd",
   "metadata": {},
   "outputs": [],
   "source": []
  },
  {
   "cell_type": "code",
   "execution_count": null,
   "id": "f3613795-8246-48a1-90d5-d53a852457f6",
   "metadata": {},
   "outputs": [],
   "source": []
  }
 ],
 "metadata": {
  "kernelspec": {
   "display_name": "Python 3 (ipykernel)",
   "language": "python",
   "name": "python3"
  },
  "language_info": {
   "codemirror_mode": {
    "name": "ipython",
    "version": 3
   },
   "file_extension": ".py",
   "mimetype": "text/x-python",
   "name": "python",
   "nbconvert_exporter": "python",
   "pygments_lexer": "ipython3",
   "version": "3.8.5"
  },
  "vscode": {
   "interpreter": {
    "hash": "b081a66ee97bd2b6a16f43955f1d810b7ea816d6eaeb65e157ef9e038445f0c6"
   }
  }
 },
 "nbformat": 4,
 "nbformat_minor": 5
}
