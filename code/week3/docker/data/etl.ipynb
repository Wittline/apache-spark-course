{
 "cells": [
  {
   "cell_type": "code",
   "execution_count": 457,
   "id": "5c022fd0-f5fc-4d9d-85f4-355799b66b34",
   "metadata": {},
   "outputs": [],
   "source": [
    "from pyspark.sql import SparkSession\n",
    "from pyspark.sql.types import StructField, StructType, StringType, IntegerType, DoubleType, FloatType, DecimalType, DateType, LongType\n",
    "from pyspark.sql.functions import to_date,col\n",
    "from pyspark import StorageLevel"
   ]
  },
  {
   "cell_type": "code",
   "execution_count": 458,
   "id": "556515e2-0bc8-4919-8e64-15707b85ff3b",
   "metadata": {},
   "outputs": [],
   "source": [
    "spark = SparkSession.builder.appName(\"etl_project\").enableHiveSupport().getOrCreate()"
   ]
  },
  {
   "cell_type": "code",
   "execution_count": 459,
   "id": "797f85b0-6270-44cb-bd5a-bca646526f26",
   "metadata": {},
   "outputs": [],
   "source": [
    "columns_mapping= {    \n",
    "'Invoice/Item Number':'invoice_item_number',\n",
    " 'Date':'date',\n",
    " 'Store Number':'store_number',\n",
    " 'Store Name':'store_name',\n",
    " 'Address':'address',\n",
    " 'City':'city',\n",
    " 'Zip Code':'zip_Code' ,\n",
    " 'Store Location':'store_location',\n",
    " 'County Number': 'county_number',\n",
    " 'County':'county',\n",
    " 'Category':'category',\n",
    " 'Category Name':'category_name',\n",
    " 'Vendor Number':'vendor_number',\n",
    " 'Vendor Name':'vendor_name',\n",
    " 'Item Number': 'item_number',\n",
    " 'Item Description':'item_description',\n",
    " 'Pack': 'pack',\n",
    " 'Bottle Volume (ml)': 'bottle_volume_ml',\n",
    " 'State Bottle Cost':'state_bottle_cost',\n",
    " 'State Bottle Retail':'state_bottle_retail',\n",
    " 'Bottles Sold':'bottles_sold',\n",
    " 'Sale (Dollars)':'sale_usd',\n",
    " 'Volume Sold (Liters)': 'volume_sold_liters',\n",
    " 'Volume Sold (Gallons)': 'volume_sold_gallons'\n",
    "}\n",
    "\n"
   ]
  },
  {
   "cell_type": "code",
   "execution_count": 460,
   "id": "3ff2e456-f2da-40c6-b71b-dd6771727261",
   "metadata": {},
   "outputs": [],
   "source": [
    "schema = [\n",
    "    StructField('Invoice/Item Number', StringType(), True),\n",
    "    StructField('Date', StringType(), True),\n",
    "    StructField('Store Number', IntegerType(), True),\n",
    "    StructField('Store Name', StringType(), True),\n",
    "    StructField('Address', StringType(), True),\n",
    "    StructField('City', StringType(), True),\n",
    "    StructField('Zip Code', StringType(), True),\n",
    "    StructField('Store Location', StringType(), True),\n",
    "    StructField('County Number', IntegerType(), True),\n",
    "    StructField('County', StringType(), True),\n",
    "    StructField('Category', IntegerType(), True),\n",
    "    StructField('Category Name', StringType(), True),\n",
    "    StructField('Vendor Number', IntegerType(), True),\n",
    "    StructField('Vendor Name', StringType(), True),\n",
    "    StructField('Item Number', IntegerType(), True),\n",
    "    StructField('Item Description', StringType(), True),\n",
    "    StructField('Pack', IntegerType(), True),\n",
    "    StructField('Bottle Volume (ml)', IntegerType(), True),\n",
    "    StructField('State Bottle Cost', StringType(), True),\n",
    "    StructField('State Bottle Retail', StringType(), True),\n",
    "    StructField('Bottles Sold', IntegerType(), True),\n",
    "    StructField('Sale (Dollars)', StringType(), True),\n",
    "    StructField('Volume Sold (Liters)', DoubleType(), True),\n",
    "    StructField(\"Volume Sold (Gallons)\", DoubleType(), True)\n",
    "]"
   ]
  },
  {
   "cell_type": "code",
   "execution_count": 461,
   "id": "645be761-a5ce-465f-9d80-7e64e126f8f9",
   "metadata": {},
   "outputs": [],
   "source": [
    "end_schema = StructType(fields = schema)"
   ]
  },
  {
   "cell_type": "code",
   "execution_count": 462,
   "id": "97f38ced-679e-43b5-8c2a-2820f24fb1c4",
   "metadata": {},
   "outputs": [],
   "source": [
    "df = spark.read.option(\"header\", \"true\")\\\n",
    "               .option(\"multiLine\", \"true\")\\\n",
    "               .schema(end_schema)\\\n",
    "               .csv(\"Iowa_Liquor_Sales__0.csv\")\\\n",
    "               .withColumn(\"date_fixed\",to_date(col(\"Date\"), 'MM/dd/yyyy'))             \n",
    "\n",
    "\n",
    "\n",
    "df = df.select([col(c).alias(columns_mapping.get(c, c)) for c in df.columns])"
   ]
  },
  {
   "cell_type": "code",
   "execution_count": 463,
   "id": "d3a8d564-d1b4-4e61-9e9a-977f6aab3da6",
   "metadata": {},
   "outputs": [
    {
     "name": "stdout",
     "output_type": "stream",
     "text": [
      "root\n",
      " |-- invoice_item_number: string (nullable = true)\n",
      " |-- date: string (nullable = true)\n",
      " |-- store_number: integer (nullable = true)\n",
      " |-- store_name: string (nullable = true)\n",
      " |-- address: string (nullable = true)\n",
      " |-- city: string (nullable = true)\n",
      " |-- zip_Code: string (nullable = true)\n",
      " |-- store_location: string (nullable = true)\n",
      " |-- county_number: integer (nullable = true)\n",
      " |-- county: string (nullable = true)\n",
      " |-- category: integer (nullable = true)\n",
      " |-- category_name: string (nullable = true)\n",
      " |-- vendor_number: integer (nullable = true)\n",
      " |-- vendor_name: string (nullable = true)\n",
      " |-- item_number: integer (nullable = true)\n",
      " |-- item_description: string (nullable = true)\n",
      " |-- pack: integer (nullable = true)\n",
      " |-- bottle_volume_ml: integer (nullable = true)\n",
      " |-- state_bottle_cost: string (nullable = true)\n",
      " |-- state_bottle_retail: string (nullable = true)\n",
      " |-- bottles_sold: integer (nullable = true)\n",
      " |-- sale_usd: string (nullable = true)\n",
      " |-- volume_sold_liters: double (nullable = true)\n",
      " |-- volume_sold_gallons: double (nullable = true)\n",
      " |-- date_fixed: date (nullable = true)\n",
      "\n"
     ]
    }
   ],
   "source": [
    "df.printSchema()"
   ]
  },
  {
   "cell_type": "code",
   "execution_count": 464,
   "id": "df90ab4e-c14e-4f56-8952-0db857f00c63",
   "metadata": {},
   "outputs": [],
   "source": [
    "df = df.drop(\"date\", \"store_location\")"
   ]
  },
  {
   "cell_type": "code",
   "execution_count": 465,
   "id": "32e6779f-3c32-45b5-85bf-4310d5dfaae5",
   "metadata": {},
   "outputs": [],
   "source": [
    "df = df.na.fill(-1, subset =[\"category\"])"
   ]
  },
  {
   "cell_type": "code",
   "execution_count": 466,
   "id": "58efb928-2c42-4aba-b453-b1eaaf7f0d57",
   "metadata": {},
   "outputs": [
    {
     "name": "stdout",
     "output_type": "stream",
     "text": [
      "+--------+\n",
      "|category|\n",
      "+--------+\n",
      "|      -1|\n",
      "|      -1|\n",
      "|      -1|\n",
      "|      -1|\n",
      "|      -1|\n",
      "|      -1|\n",
      "| 1701100|\n",
      "|      -1|\n",
      "| 1701100|\n",
      "|      -1|\n",
      "|      -1|\n",
      "|      -1|\n",
      "|      -1|\n",
      "| 1701100|\n",
      "|      -1|\n",
      "|      -1|\n",
      "|      -1|\n",
      "|      -1|\n",
      "| 1081200|\n",
      "|      -1|\n",
      "+--------+\n",
      "only showing top 20 rows\n",
      "\n"
     ]
    }
   ],
   "source": [
    "df.select('category').show()"
   ]
  },
  {
   "cell_type": "code",
   "execution_count": 467,
   "id": "354a8bc7-93d6-4843-8e00-142049e3b19e",
   "metadata": {},
   "outputs": [],
   "source": [
    "df = df.na.fill('no_category', subset=[\"category_name\"])"
   ]
  },
  {
   "cell_type": "code",
   "execution_count": 468,
   "id": "a80a5acb-25ea-4071-877b-d790df49a8ad",
   "metadata": {},
   "outputs": [
    {
     "name": "stdout",
     "output_type": "stream",
     "text": [
      "+--------------------+\n",
      "|       category_name|\n",
      "+--------------------+\n",
      "|         no_category|\n",
      "|         no_category|\n",
      "|         no_category|\n",
      "|         no_category|\n",
      "|         no_category|\n",
      "|         no_category|\n",
      "|DECANTERS & SPECI...|\n",
      "|         no_category|\n",
      "|DECANTERS & SPECI...|\n",
      "|         no_category|\n",
      "|         no_category|\n",
      "|         no_category|\n",
      "|         no_category|\n",
      "|DECANTERS & SPECI...|\n",
      "|         no_category|\n",
      "|         no_category|\n",
      "|         no_category|\n",
      "|         no_category|\n",
      "|      CREAM LIQUEURS|\n",
      "|         no_category|\n",
      "+--------------------+\n",
      "only showing top 20 rows\n",
      "\n"
     ]
    }
   ],
   "source": [
    "df.select('category_name').show()"
   ]
  },
  {
   "cell_type": "code",
   "execution_count": 469,
   "id": "d229c126-7b5a-4502-b2a5-31944d6cc1de",
   "metadata": {},
   "outputs": [],
   "source": [
    "#new_df.persist(StorageLevel.MEMORY_AND_DISK)"
   ]
  },
  {
   "cell_type": "code",
   "execution_count": 470,
   "id": "ff9d545d-1f3a-4330-a7cb-395ad6851d88",
   "metadata": {},
   "outputs": [],
   "source": [
    "df.createOrReplaceTempView(\"ILS\")"
   ]
  },
  {
   "cell_type": "code",
   "execution_count": 471,
   "id": "991f81c2-f95b-4161-af28-bb1e930a0f23",
   "metadata": {},
   "outputs": [],
   "source": [
    "db_name = \"ILS_db\"\n",
    "dimensions = [\"fact_Sales\",\"dim_Category\", \"dim_Store\", \"dim_Vendor\", \"dim_Items\", \"dim_County\", \"dim_Dates\"]"
   ]
  },
  {
   "cell_type": "code",
   "execution_count": 472,
   "id": "ba1fe3cd-f3ed-44be-a6b6-786c2ead7939",
   "metadata": {},
   "outputs": [],
   "source": [
    "sparkDF = spark.sql(\"select distinct category, category_name from ILS\")"
   ]
  },
  {
   "cell_type": "code",
   "execution_count": 473,
   "id": "c1aa54ae-a736-4bcb-a3b8-5ed7a272fbb6",
   "metadata": {},
   "outputs": [
    {
     "data": {
      "text/plain": [
       "DataFrame[]"
      ]
     },
     "execution_count": 473,
     "metadata": {},
     "output_type": "execute_result"
    }
   ],
   "source": [
    "spark.sql(f'CREATE database if not exists {db_name}')"
   ]
  },
  {
   "cell_type": "code",
   "execution_count": null,
   "id": "9243ac0f-d00b-4944-872c-56284325c202",
   "metadata": {},
   "outputs": [],
   "source": [
    "spark.sql(f'''CREATE TABLE if not exists {db_name}.dim_Category (\n",
    "\n",
    "          id INT,\n",
    "          category_name STRING\n",
    "          \n",
    "         );''')"
   ]
  },
  {
   "cell_type": "code",
   "execution_count": null,
   "id": "884e1223-d930-4c52-82d8-a4aae82910d0",
   "metadata": {},
   "outputs": [],
   "source": [
    "spark.sql('''            \n",
    "            INSERT INTO dim_Category\n",
    "            select distinct category, category_name from ILS         \n",
    "         );''')"
   ]
  }
 ],
 "metadata": {
  "kernelspec": {
   "display_name": "Python 3.8.5 64-bit",
   "language": "python",
   "name": "python3"
  },
  "language_info": {
   "codemirror_mode": {
    "name": "ipython",
    "version": 3
   },
   "file_extension": ".py",
   "mimetype": "text/x-python",
   "name": "python",
   "nbconvert_exporter": "python",
   "pygments_lexer": "ipython3",
   "version": "3.8.5"
  },
  "vscode": {
   "interpreter": {
    "hash": "b081a66ee97bd2b6a16f43955f1d810b7ea816d6eaeb65e157ef9e038445f0c6"
   }
  }
 },
 "nbformat": 4,
 "nbformat_minor": 5
}
